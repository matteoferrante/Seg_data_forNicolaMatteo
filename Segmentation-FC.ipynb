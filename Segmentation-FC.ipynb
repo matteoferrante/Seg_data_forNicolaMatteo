{
 "cells": [
  {
   "cell_type": "markdown",
   "id": "2922961b-c126-4d89-a2d8-24104c6ec6b3",
   "metadata": {},
   "source": [
    "## Prior based automatic segmentation of deep nuclei\n",
    "\n",
    "In this notebook a method for automatic segmentation on older patients deep nuclei using a prior from younger ones is described.\n",
    "\n",
    "For each target nuclei, the **center of gravity** of the prior mask is computed. A box is constructed with a specific **side** (usually 10-12 voxel) centered on this value, in order to have a **local evaluation**\n",
    "\n",
    "Coordinates of this box, together with scaled image gray values are the features that we're intereset in.\n",
    "\n",
    "A KMeans algorithm is run with **n_cluster** (default=10) in order to find consistent region of images. \n",
    "\n",
    "The algorithm choose randomly **n_cluster** centroids and compute the euclidian distance of each point to the centroids, weighted with the probability of belonging to the right cluster. The objective is to minimize this cost function\n",
    "\n",
    "${\\displaystyle J(W,C)=\\sum _{i=1}^{n}\\sum _{j=1}^{c}w_{ij}^{m}\\left\\|\\mathbf {x} _{i}-\\mathbf {c} _{j}\\right\\|^{2}}$\n",
    "\n",
    "${\\displaystyle w_{ij}={\\frac {1}{\\sum _{k=1}^{c}\\left({\\frac {\\left\\|\\mathbf {x} _{i}-\\mathbf {c} _{j}\\right\\|}{\\left\\|\\mathbf {x} _{i}-\\mathbf {c} _{k}\\right\\|}}\\right)^{\\frac {2}{m-1}}}}}$\n",
    "\n",
    "Each point will have **n_cluster** distances from each one of the centroids and it is associated the cluster of the closest centroid.\n",
    "Now, for each cluster, the new centroids are computed as the mean coordinates of the points\n",
    "\n",
    "${\\displaystyle c_{k}={{\\sum _{x}{w_{k}(x)}^{m}x} \\over {\\sum _{x}{w_{k}(x)}^{m}}},}$\n",
    "\n",
    "\n",
    "and the process is repeated until convergence\n",
    "\n",
    "When performing predictions, each point of the local box is associated with a probability of belonging to each cluster.\n",
    "The cluster that contains the center of mass is selected as the target one, and probability of this cluster is increased by $\\alpha P_{prior}$, then the argmax is taken to provide final mask.\n",
    "\n",
    "A connected component analysis in 3D looking for 26 nearest neighbors is conducted to keep the largest connected components and avoid fragmented masks. The final mask is a boolean 3D box.\n",
    "\n",
    "The box is placed in a 3D zeros array with the same shape of the original image\n"
   ]
  },
  {
   "cell_type": "code",
   "execution_count": 18,
   "id": "2295d11b-0e57-4935-a111-8a99ad613627",
   "metadata": {},
   "outputs": [],
   "source": [
    "from segmentation import *\n",
    "import os\n",
    "import glob\n",
    "import numpy as np\n",
    "import matplotlib.pyplot as plt\n",
    "from os.path import join as opj\n",
    "import tqdm\n",
    "import pandas as pd\n",
    "from nilearn.image import mean_img"
   ]
  },
  {
   "cell_type": "code",
   "execution_count": 2,
   "id": "e200f632-42f7-4744-b5e2-5e024b665e2a",
   "metadata": {},
   "outputs": [],
   "source": [
    "prior_path=\"priors_12younger_inMIITRAv2space\"\n",
    "data_path=\"data_15elder_inMIITRAv2space\"\n",
    "\n",
    "target_dir=\"fcm_segmentations\""
   ]
  },
  {
   "cell_type": "code",
   "execution_count": 3,
   "id": "0f54294c-8969-4712-bf51-6fe6a6bd99f2",
   "metadata": {},
   "outputs": [],
   "source": [
    "priors=glob.glob(opj(prior_path,\"*.nii.gz\"))\n",
    "data=glob.glob(opj(data_path,\"*.nii.gz\"))"
   ]
  },
  {
   "cell_type": "code",
   "execution_count": 4,
   "id": "fd50bc92-ccbf-4bec-be87-80d606255e42",
   "metadata": {},
   "outputs": [],
   "source": [
    "img_nifti=nib.load(data[0])\n",
    "img=img_nifti.get_fdata()\n",
    "prior=nib.load(priors[0]).get_fdata()"
   ]
  },
  {
   "cell_type": "code",
   "execution_count": 5,
   "id": "32765ac4-c474-4a5b-a7c2-2970bbdc10eb",
   "metadata": {},
   "outputs": [
    {
     "name": "stdout",
     "output_type": "stream",
     "text": [
      "Performing segmentation for dtifit_d_S0_bfc_sub8_masked_2_MIITRA2 (0/15\n"
     ]
    },
    {
     "name": "stderr",
     "output_type": "stream",
     "text": [
      "100%|█████████████████████████████████████████| 120/120 [01:49<00:00,  1.10it/s]\n"
     ]
    },
    {
     "name": "stdout",
     "output_type": "stream",
     "text": [
      "Performing segmentation for dtifit_d_S0_bfc_sub18_masked_2_MIITRA2 (1/15\n"
     ]
    },
    {
     "name": "stderr",
     "output_type": "stream",
     "text": [
      "100%|█████████████████████████████████████████| 120/120 [01:48<00:00,  1.11it/s]\n"
     ]
    },
    {
     "name": "stdout",
     "output_type": "stream",
     "text": [
      "Performing segmentation for dtifit_d_S0_bfc_sub17_masked_2_MIITRA2 (2/15\n"
     ]
    },
    {
     "name": "stderr",
     "output_type": "stream",
     "text": [
      "100%|█████████████████████████████████████████| 120/120 [01:48<00:00,  1.11it/s]\n"
     ]
    },
    {
     "name": "stdout",
     "output_type": "stream",
     "text": [
      "Performing segmentation for dtifit_d_S0_bfc_sub3_masked_2_MIITRA2 (3/15\n"
     ]
    },
    {
     "name": "stderr",
     "output_type": "stream",
     "text": [
      "100%|█████████████████████████████████████████| 120/120 [01:47<00:00,  1.11it/s]\n"
     ]
    },
    {
     "name": "stdout",
     "output_type": "stream",
     "text": [
      "Performing segmentation for dtifit_d_S0_bfc_sub23_masked_2_MIITRA2 (4/15\n"
     ]
    },
    {
     "name": "stderr",
     "output_type": "stream",
     "text": [
      "100%|█████████████████████████████████████████| 120/120 [01:46<00:00,  1.12it/s]\n"
     ]
    },
    {
     "name": "stdout",
     "output_type": "stream",
     "text": [
      "Performing segmentation for dtifit_d_S0_bfc_sub7_masked_2_MIITRA2 (5/15\n"
     ]
    },
    {
     "name": "stderr",
     "output_type": "stream",
     "text": [
      "100%|█████████████████████████████████████████| 120/120 [01:47<00:00,  1.12it/s]\n"
     ]
    },
    {
     "name": "stdout",
     "output_type": "stream",
     "text": [
      "Performing segmentation for dtifit_d_S0_bfc_sub6_masked_2_MIITRA2 (6/15\n"
     ]
    },
    {
     "name": "stderr",
     "output_type": "stream",
     "text": [
      "100%|█████████████████████████████████████████| 120/120 [01:47<00:00,  1.12it/s]\n"
     ]
    },
    {
     "name": "stdout",
     "output_type": "stream",
     "text": [
      "Performing segmentation for dtifit_d_S0_bfc_sub19_masked_2_MIITRA2 (7/15\n"
     ]
    },
    {
     "name": "stderr",
     "output_type": "stream",
     "text": [
      "100%|█████████████████████████████████████████| 120/120 [01:47<00:00,  1.11it/s]\n"
     ]
    },
    {
     "name": "stdout",
     "output_type": "stream",
     "text": [
      "Performing segmentation for dtifit_d_S0_bfc_sub10_masked_2_MIITRA2 (8/15\n"
     ]
    },
    {
     "name": "stderr",
     "output_type": "stream",
     "text": [
      "100%|█████████████████████████████████████████| 120/120 [01:47<00:00,  1.11it/s]\n"
     ]
    },
    {
     "name": "stdout",
     "output_type": "stream",
     "text": [
      "Performing segmentation for dtifit_d_S0_bfc_sub22_masked_2_MIITRA2 (9/15\n"
     ]
    },
    {
     "name": "stderr",
     "output_type": "stream",
     "text": [
      "100%|█████████████████████████████████████████| 120/120 [01:47<00:00,  1.11it/s]\n"
     ]
    },
    {
     "name": "stdout",
     "output_type": "stream",
     "text": [
      "Performing segmentation for dtifit_d_S0_bfc_sub11_masked_2_MIITRA2 (10/15\n"
     ]
    },
    {
     "name": "stderr",
     "output_type": "stream",
     "text": [
      "100%|█████████████████████████████████████████| 120/120 [01:47<00:00,  1.12it/s]\n"
     ]
    },
    {
     "name": "stdout",
     "output_type": "stream",
     "text": [
      "Performing segmentation for dtifit_d_S0_bfc_sub1_masked_2_MIITRA2 (11/15\n"
     ]
    },
    {
     "name": "stderr",
     "output_type": "stream",
     "text": [
      "100%|█████████████████████████████████████████| 120/120 [01:47<00:00,  1.11it/s]\n"
     ]
    },
    {
     "name": "stdout",
     "output_type": "stream",
     "text": [
      "Performing segmentation for dtifit_d_S0_bfc_sub2_masked_2_MIITRA2 (12/15\n"
     ]
    },
    {
     "name": "stderr",
     "output_type": "stream",
     "text": [
      "100%|█████████████████████████████████████████| 120/120 [01:47<00:00,  1.12it/s]\n"
     ]
    },
    {
     "name": "stdout",
     "output_type": "stream",
     "text": [
      "Performing segmentation for dtifit_d_S0_bfc_sub24_masked_2_MIITRA2 (13/15\n"
     ]
    },
    {
     "name": "stderr",
     "output_type": "stream",
     "text": [
      "100%|█████████████████████████████████████████| 120/120 [01:47<00:00,  1.12it/s]\n"
     ]
    },
    {
     "name": "stdout",
     "output_type": "stream",
     "text": [
      "Performing segmentation for dtifit_d_S0_bfc_sub13_masked_2_MIITRA2 (14/15\n"
     ]
    },
    {
     "name": "stderr",
     "output_type": "stream",
     "text": [
      "100%|█████████████████████████████████████████| 120/120 [01:47<00:00,  1.12it/s]\n"
     ]
    }
   ],
   "source": [
    "for i,d in enumerate(data):\n",
    "    \n",
    "    d_name=d.split(\"/\")[-1].split(\".nii.gz\")[0]\n",
    "    \n",
    "    print(f\"Performing segmentation for {d_name} ({i}/{len(data)}\")\n",
    "    os.makedirs(opj(target_dir,d_name),exist_ok=True)\n",
    "    img_nifti=nib.load(d)\n",
    "    affine=img_nifti.affine\n",
    "    img=img_nifti.get_fdata()\n",
    "    for p in tqdm.tqdm(priors):\n",
    "        \n",
    "        p_name=p.split(\"/\")[-1]\n",
    "\n",
    "        prior=nib.load(p).get_fdata()\n",
    "        seg=run_prior_segmentation(img,prior,n_cluster=10,half_side=6,prior_weight=0.5)\n",
    "        out=nib.Nifti1Image(seg,affine=affine)\n",
    "        nib.save(out,opj(target_dir,d_name,p_name))"
   ]
  },
  {
   "cell_type": "code",
   "execution_count": 6,
   "id": "c0f64618-d3cd-40f5-beed-93acf3254510",
   "metadata": {},
   "outputs": [],
   "source": [
    "def dice(im1, im2):\n",
    "    \"\"\"\n",
    "    Computes the Dice coefficient, a measure of set similarity.\n",
    "    Parameters\n",
    "    ----------\n",
    "    im1 : array-like, bool\n",
    "        Any array of arbitrary size. If not boolean, will be converted.\n",
    "    im2 : array-like, bool\n",
    "        Any other array of identical size. If not boolean, will be converted.\n",
    "    Returns\n",
    "    -------\n",
    "    dice : float\n",
    "        Dice coefficient as a float on range [0,1].\n",
    "        Maximum similarity = 1\n",
    "        No similarity = 0\n",
    "        \n",
    "    Notes\n",
    "    -----\n",
    "    The order of inputs for `dice` is irrelevant. The result will be\n",
    "    identical if `im1` and `im2` are switched.\n",
    "    \"\"\"\n",
    "    im1 = np.asarray(im1).astype(np.bool)\n",
    "    im2 = np.asarray(im2).astype(np.bool)\n",
    "\n",
    "    if im1.shape != im2.shape:\n",
    "        raise ValueError(\"Shape mismatch: im1 and im2 must have the same shape.\")\n",
    "\n",
    "    # Compute Dice coefficient\n",
    "    intersection = np.logical_and(im1, im2)\n",
    "\n",
    "    return 2. * intersection.sum() / (im1.sum() + im2.sum())## Evaluation"
   ]
  },
  {
   "cell_type": "code",
   "execution_count": 7,
   "id": "5236aada-84c7-4ac8-9c0b-7df96e4d7876",
   "metadata": {},
   "outputs": [
    {
     "name": "stderr",
     "output_type": "stream",
     "text": [
      "  0%|                                                   | 0/121 [00:00<?, ?it/s]/tmp/ipykernel_2070059/2134065819.py:22: DeprecationWarning: `np.bool` is a deprecated alias for the builtin `bool`. To silence this warning, use `bool` by itself. Doing this will not modify any behavior and is safe. If you specifically wanted the numpy scalar type, use `np.bool_` here.\n",
      "Deprecated in NumPy 1.20; for more details and guidance: https://numpy.org/devdocs/release/1.20.0-notes.html#deprecations\n",
      "  im1 = np.asarray(im1).astype(np.bool)\n",
      "/tmp/ipykernel_2070059/2134065819.py:23: DeprecationWarning: `np.bool` is a deprecated alias for the builtin `bool`. To silence this warning, use `bool` by itself. Doing this will not modify any behavior and is safe. If you specifically wanted the numpy scalar type, use `np.bool_` here.\n",
      "Deprecated in NumPy 1.20; for more details and guidance: https://numpy.org/devdocs/release/1.20.0-notes.html#deprecations\n",
      "  im2 = np.asarray(im2).astype(np.bool)\n",
      " 16%|██████▌                                   | 19/121 [01:25<07:34,  4.45s/it]"
     ]
    },
    {
     "name": "stdout",
     "output_type": "stream",
     "text": [
      "file fcm_segmentations/dtifit_d_S0_bfc_sub8_masked_2_MIITRA2/zList_nucleilabels_name.txt or priors_12younger_inMIITRAv2space/zList_nucleilabels_name.txt is not a nifti\n",
      "file fcm_segmentations/dtifit_d_S0_bfc_sub18_masked_2_MIITRA2/zList_nucleilabels_name.txt or priors_12younger_inMIITRAv2space/zList_nucleilabels_name.txt is not a nifti\n",
      "file fcm_segmentations/dtifit_d_S0_bfc_sub17_masked_2_MIITRA2/zList_nucleilabels_name.txt or priors_12younger_inMIITRAv2space/zList_nucleilabels_name.txt is not a nifti\n",
      "file fcm_segmentations/dtifit_d_S0_bfc_sub3_masked_2_MIITRA2/zList_nucleilabels_name.txt or priors_12younger_inMIITRAv2space/zList_nucleilabels_name.txt is not a nifti\n",
      "file fcm_segmentations/dtifit_d_S0_bfc_sub23_masked_2_MIITRA2/zList_nucleilabels_name.txt or priors_12younger_inMIITRAv2space/zList_nucleilabels_name.txt is not a nifti\n",
      "file fcm_segmentations/dtifit_d_S0_bfc_sub7_masked_2_MIITRA2/zList_nucleilabels_name.txt or priors_12younger_inMIITRAv2space/zList_nucleilabels_name.txt is not a nifti\n",
      "file fcm_segmentations/dtifit_d_S0_bfc_sub6_masked_2_MIITRA2/zList_nucleilabels_name.txt or priors_12younger_inMIITRAv2space/zList_nucleilabels_name.txt is not a nifti\n",
      "file fcm_segmentations/dtifit_d_S0_bfc_sub19_masked_2_MIITRA2/zList_nucleilabels_name.txt or priors_12younger_inMIITRAv2space/zList_nucleilabels_name.txt is not a nifti\n",
      "file fcm_segmentations/dtifit_d_S0_bfc_sub10_masked_2_MIITRA2/zList_nucleilabels_name.txt or priors_12younger_inMIITRAv2space/zList_nucleilabels_name.txt is not a nifti\n",
      "file fcm_segmentations/dtifit_d_S0_bfc_sub22_masked_2_MIITRA2/zList_nucleilabels_name.txt or priors_12younger_inMIITRAv2space/zList_nucleilabels_name.txt is not a nifti\n",
      "file fcm_segmentations/dtifit_d_S0_bfc_sub11_masked_2_MIITRA2/zList_nucleilabels_name.txt or priors_12younger_inMIITRAv2space/zList_nucleilabels_name.txt is not a nifti\n",
      "file fcm_segmentations/dtifit_d_S0_bfc_sub1_masked_2_MIITRA2/zList_nucleilabels_name.txt or priors_12younger_inMIITRAv2space/zList_nucleilabels_name.txt is not a nifti\n",
      "file fcm_segmentations/dtifit_d_S0_bfc_sub2_masked_2_MIITRA2/zList_nucleilabels_name.txt or priors_12younger_inMIITRAv2space/zList_nucleilabels_name.txt is not a nifti\n",
      "file fcm_segmentations/dtifit_d_S0_bfc_sub24_masked_2_MIITRA2/zList_nucleilabels_name.txt or priors_12younger_inMIITRAv2space/zList_nucleilabels_name.txt is not a nifti\n",
      "file fcm_segmentations/dtifit_d_S0_bfc_sub13_masked_2_MIITRA2/zList_nucleilabels_name.txt or priors_12younger_inMIITRAv2space/zList_nucleilabels_name.txt is not a nifti\n"
     ]
    },
    {
     "name": "stderr",
     "output_type": "stream",
     "text": [
      "100%|█████████████████████████████████████████| 121/121 [08:56<00:00,  4.43s/it]\n"
     ]
    }
   ],
   "source": [
    "prior_names=os.listdir(prior_path)\n",
    "d_name=d.split(\"/\")[-1].split(\".nii.gz\")[0]\n",
    "\n",
    "dice_dict={}\n",
    "for p in tqdm.tqdm(prior_names):\n",
    "    \n",
    "    dice_dict[p]=[]\n",
    "    \n",
    "    for i,d in enumerate(data):\n",
    "    \n",
    "        d_name=d.split(\"/\")[-1].split(\".nii.gz\")[0]\n",
    "        ref_file=opj(prior_path,p)\n",
    "        target_file=opj(target_dir,d_name,p)\n",
    "        try:\n",
    "            dice_score=dice(nib.load(target_file).get_fdata(),nib.load(ref_file).get_fdata())\n",
    "            dice_dict[p].append(dice_score)\n",
    "        except:\n",
    "            print(f\"file {target_file} or {ref_file} is not a nifti\")\n",
    "    \n",
    "    # opj(\"km_segmentations\",d_name"
   ]
  },
  {
   "cell_type": "code",
   "execution_count": 10,
   "id": "2534952b-e1e3-4512-bbb8-44ca6a878226",
   "metadata": {},
   "outputs": [
    {
     "data": {
      "text/html": [
       "<div>\n",
       "<style scoped>\n",
       "    .dataframe tbody tr th:only-of-type {\n",
       "        vertical-align: middle;\n",
       "    }\n",
       "\n",
       "    .dataframe tbody tr th {\n",
       "        vertical-align: top;\n",
       "    }\n",
       "\n",
       "    .dataframe thead th {\n",
       "        text-align: right;\n",
       "    }\n",
       "</style>\n",
       "<table border=\"1\" class=\"dataframe\">\n",
       "  <thead>\n",
       "    <tr style=\"text-align: right;\">\n",
       "      <th></th>\n",
       "      <th>s5_l10_2_MIITRA2.nii.gz</th>\n",
       "      <th>s5_r10_2_MIITRA2.nii.gz</th>\n",
       "      <th>s7_r10_2_MIITRA2.nii.gz</th>\n",
       "      <th>s4_r2_Seg_4cl_S0_WBednoCSF_2_MIITRA2.nii.gz</th>\n",
       "      <th>s12_l3_Seg_4cl_S0_WBednoCSF_2_MIITRA2.nii.gz</th>\n",
       "      <th>s12_r2_Seg_4cl_S0_WBednoCSF_2_MIITRA2.nii.gz</th>\n",
       "      <th>s2_l2_Seg_4cl_S0_WBednoCSF_2_MIITRA2.nii.gz</th>\n",
       "      <th>s11_l10_2_MIITRA2.nii.gz</th>\n",
       "      <th>s1_r3_Seg_4cl_S0_WBednoCSF_2_MIITRA2.nii.gz</th>\n",
       "      <th>s5_r2_Seg_4cl_S0_WBednoCSF_2_MIITRA2.nii.gz</th>\n",
       "      <th>...</th>\n",
       "      <th>s10_l2_Seg_4cl_S0_WBednoCSF_2_MIITRA2.nii.gz</th>\n",
       "      <th>s12_l9_2_MIITRA2.nii.gz</th>\n",
       "      <th>s9_l1_Seg_4cl_S0_WBednoCSF_2_MIITRA2.nii.gz</th>\n",
       "      <th>s8_r1_Seg_4cl_S0_WBednoCSF_2_MIITRA2.nii.gz</th>\n",
       "      <th>s1_r2_Seg_4cl_S0_WBednoCSF_2_MIITRA2.nii.gz</th>\n",
       "      <th>s10_r10_2_MIITRA2.nii.gz</th>\n",
       "      <th>s2_l3_Seg_4cl_S0_WBednoCSF_2_MIITRA2.nii.gz</th>\n",
       "      <th>s1_l1_Seg_4cl_S0_WBednoCSF_2_MIITRA2.nii.gz</th>\n",
       "      <th>s7_r2_Seg_4cl_S0_WBednoCSF_2_MIITRA2.nii.gz</th>\n",
       "      <th>s8_l1_Seg_4cl_S0_WBednoCSF_2_MIITRA2.nii.gz</th>\n",
       "    </tr>\n",
       "  </thead>\n",
       "  <tbody>\n",
       "    <tr>\n",
       "      <th>0</th>\n",
       "      <td>0.227907</td>\n",
       "      <td>0.270096</td>\n",
       "      <td>0.188976</td>\n",
       "      <td>0.138408</td>\n",
       "      <td>0.291613</td>\n",
       "      <td>0.238806</td>\n",
       "      <td>0.238806</td>\n",
       "      <td>0.301158</td>\n",
       "      <td>0.320356</td>\n",
       "      <td>0.082474</td>\n",
       "      <td>...</td>\n",
       "      <td>0.167742</td>\n",
       "      <td>0.289474</td>\n",
       "      <td>0.355000</td>\n",
       "      <td>0.238908</td>\n",
       "      <td>0.173302</td>\n",
       "      <td>0.247863</td>\n",
       "      <td>0.263033</td>\n",
       "      <td>0.374753</td>\n",
       "      <td>0.169972</td>\n",
       "      <td>0.286885</td>\n",
       "    </tr>\n",
       "    <tr>\n",
       "      <th>1</th>\n",
       "      <td>0.120000</td>\n",
       "      <td>0.362069</td>\n",
       "      <td>0.210526</td>\n",
       "      <td>0.236715</td>\n",
       "      <td>0.253416</td>\n",
       "      <td>0.336842</td>\n",
       "      <td>0.268537</td>\n",
       "      <td>0.136821</td>\n",
       "      <td>0.475843</td>\n",
       "      <td>0.179012</td>\n",
       "      <td>...</td>\n",
       "      <td>0.369231</td>\n",
       "      <td>0.425121</td>\n",
       "      <td>0.421875</td>\n",
       "      <td>0.000000</td>\n",
       "      <td>0.378378</td>\n",
       "      <td>0.102273</td>\n",
       "      <td>0.228942</td>\n",
       "      <td>0.345238</td>\n",
       "      <td>0.307179</td>\n",
       "      <td>0.303279</td>\n",
       "    </tr>\n",
       "    <tr>\n",
       "      <th>2</th>\n",
       "      <td>0.324324</td>\n",
       "      <td>0.098837</td>\n",
       "      <td>0.121581</td>\n",
       "      <td>0.289216</td>\n",
       "      <td>0.391753</td>\n",
       "      <td>0.290672</td>\n",
       "      <td>0.295082</td>\n",
       "      <td>0.261682</td>\n",
       "      <td>0.476364</td>\n",
       "      <td>0.225705</td>\n",
       "      <td>...</td>\n",
       "      <td>0.398190</td>\n",
       "      <td>0.349398</td>\n",
       "      <td>0.459530</td>\n",
       "      <td>0.274336</td>\n",
       "      <td>0.409222</td>\n",
       "      <td>0.078049</td>\n",
       "      <td>0.371459</td>\n",
       "      <td>0.453152</td>\n",
       "      <td>0.341564</td>\n",
       "      <td>0.359322</td>\n",
       "    </tr>\n",
       "    <tr>\n",
       "      <th>3</th>\n",
       "      <td>0.295918</td>\n",
       "      <td>0.117400</td>\n",
       "      <td>0.132505</td>\n",
       "      <td>0.230576</td>\n",
       "      <td>0.463646</td>\n",
       "      <td>0.238411</td>\n",
       "      <td>0.335484</td>\n",
       "      <td>0.275618</td>\n",
       "      <td>0.374343</td>\n",
       "      <td>0.155039</td>\n",
       "      <td>...</td>\n",
       "      <td>0.341463</td>\n",
       "      <td>0.335025</td>\n",
       "      <td>0.455090</td>\n",
       "      <td>0.288066</td>\n",
       "      <td>0.255670</td>\n",
       "      <td>0.153005</td>\n",
       "      <td>0.279736</td>\n",
       "      <td>0.361266</td>\n",
       "      <td>0.266667</td>\n",
       "      <td>0.283582</td>\n",
       "    </tr>\n",
       "    <tr>\n",
       "      <th>4</th>\n",
       "      <td>0.116129</td>\n",
       "      <td>0.505263</td>\n",
       "      <td>0.341969</td>\n",
       "      <td>0.236422</td>\n",
       "      <td>0.348675</td>\n",
       "      <td>0.340580</td>\n",
       "      <td>0.344615</td>\n",
       "      <td>0.332075</td>\n",
       "      <td>0.414508</td>\n",
       "      <td>0.157205</td>\n",
       "      <td>...</td>\n",
       "      <td>0.314050</td>\n",
       "      <td>0.295775</td>\n",
       "      <td>0.008000</td>\n",
       "      <td>0.000000</td>\n",
       "      <td>0.270742</td>\n",
       "      <td>0.240602</td>\n",
       "      <td>0.281352</td>\n",
       "      <td>0.435754</td>\n",
       "      <td>0.311224</td>\n",
       "      <td>0.000000</td>\n",
       "    </tr>\n",
       "    <tr>\n",
       "      <th>5</th>\n",
       "      <td>0.181818</td>\n",
       "      <td>0.205788</td>\n",
       "      <td>0.102740</td>\n",
       "      <td>0.236776</td>\n",
       "      <td>0.328798</td>\n",
       "      <td>0.325333</td>\n",
       "      <td>0.345572</td>\n",
       "      <td>0.208696</td>\n",
       "      <td>0.382609</td>\n",
       "      <td>0.205882</td>\n",
       "      <td>...</td>\n",
       "      <td>0.419643</td>\n",
       "      <td>0.177340</td>\n",
       "      <td>0.214634</td>\n",
       "      <td>0.220994</td>\n",
       "      <td>0.333333</td>\n",
       "      <td>0.082418</td>\n",
       "      <td>0.280040</td>\n",
       "      <td>0.447712</td>\n",
       "      <td>0.297189</td>\n",
       "      <td>0.000000</td>\n",
       "    </tr>\n",
       "    <tr>\n",
       "      <th>6</th>\n",
       "      <td>0.095012</td>\n",
       "      <td>0.256055</td>\n",
       "      <td>0.094828</td>\n",
       "      <td>0.244604</td>\n",
       "      <td>0.482921</td>\n",
       "      <td>0.291777</td>\n",
       "      <td>0.285714</td>\n",
       "      <td>0.156863</td>\n",
       "      <td>0.493333</td>\n",
       "      <td>0.192308</td>\n",
       "      <td>...</td>\n",
       "      <td>0.291480</td>\n",
       "      <td>0.318681</td>\n",
       "      <td>0.445087</td>\n",
       "      <td>0.256410</td>\n",
       "      <td>0.303226</td>\n",
       "      <td>0.062696</td>\n",
       "      <td>0.278876</td>\n",
       "      <td>0.332665</td>\n",
       "      <td>0.297297</td>\n",
       "      <td>0.362140</td>\n",
       "    </tr>\n",
       "    <tr>\n",
       "      <th>7</th>\n",
       "      <td>0.344828</td>\n",
       "      <td>0.240310</td>\n",
       "      <td>0.081911</td>\n",
       "      <td>0.167421</td>\n",
       "      <td>0.292108</td>\n",
       "      <td>0.271357</td>\n",
       "      <td>0.302158</td>\n",
       "      <td>0.321951</td>\n",
       "      <td>0.314402</td>\n",
       "      <td>0.150943</td>\n",
       "      <td>...</td>\n",
       "      <td>0.337950</td>\n",
       "      <td>0.295918</td>\n",
       "      <td>0.342342</td>\n",
       "      <td>0.328767</td>\n",
       "      <td>0.339250</td>\n",
       "      <td>0.137097</td>\n",
       "      <td>0.289760</td>\n",
       "      <td>0.565957</td>\n",
       "      <td>0.229787</td>\n",
       "      <td>0.000000</td>\n",
       "    </tr>\n",
       "    <tr>\n",
       "      <th>8</th>\n",
       "      <td>0.234432</td>\n",
       "      <td>0.091398</td>\n",
       "      <td>0.097959</td>\n",
       "      <td>0.149837</td>\n",
       "      <td>0.272512</td>\n",
       "      <td>0.177914</td>\n",
       "      <td>0.270023</td>\n",
       "      <td>0.145946</td>\n",
       "      <td>0.330761</td>\n",
       "      <td>0.151030</td>\n",
       "      <td>...</td>\n",
       "      <td>0.310680</td>\n",
       "      <td>0.261224</td>\n",
       "      <td>0.527174</td>\n",
       "      <td>0.000000</td>\n",
       "      <td>0.213178</td>\n",
       "      <td>0.066667</td>\n",
       "      <td>0.253763</td>\n",
       "      <td>0.457565</td>\n",
       "      <td>0.253333</td>\n",
       "      <td>0.388664</td>\n",
       "    </tr>\n",
       "    <tr>\n",
       "      <th>9</th>\n",
       "      <td>0.120192</td>\n",
       "      <td>0.085561</td>\n",
       "      <td>0.000000</td>\n",
       "      <td>0.225895</td>\n",
       "      <td>0.399507</td>\n",
       "      <td>0.283525</td>\n",
       "      <td>0.230384</td>\n",
       "      <td>0.123007</td>\n",
       "      <td>0.408714</td>\n",
       "      <td>0.178218</td>\n",
       "      <td>...</td>\n",
       "      <td>0.300654</td>\n",
       "      <td>0.286822</td>\n",
       "      <td>0.464986</td>\n",
       "      <td>0.000000</td>\n",
       "      <td>0.309735</td>\n",
       "      <td>0.088889</td>\n",
       "      <td>0.351381</td>\n",
       "      <td>0.410749</td>\n",
       "      <td>0.213483</td>\n",
       "      <td>0.339768</td>\n",
       "    </tr>\n",
       "    <tr>\n",
       "      <th>10</th>\n",
       "      <td>0.251046</td>\n",
       "      <td>0.114754</td>\n",
       "      <td>0.181818</td>\n",
       "      <td>0.121827</td>\n",
       "      <td>0.358857</td>\n",
       "      <td>0.215488</td>\n",
       "      <td>0.314465</td>\n",
       "      <td>0.420290</td>\n",
       "      <td>0.323559</td>\n",
       "      <td>0.113208</td>\n",
       "      <td>...</td>\n",
       "      <td>0.302326</td>\n",
       "      <td>0.433735</td>\n",
       "      <td>0.103627</td>\n",
       "      <td>0.228070</td>\n",
       "      <td>0.271698</td>\n",
       "      <td>0.087379</td>\n",
       "      <td>0.274973</td>\n",
       "      <td>0.430823</td>\n",
       "      <td>0.163265</td>\n",
       "      <td>0.000000</td>\n",
       "    </tr>\n",
       "    <tr>\n",
       "      <th>11</th>\n",
       "      <td>0.307143</td>\n",
       "      <td>0.317757</td>\n",
       "      <td>0.060606</td>\n",
       "      <td>0.256983</td>\n",
       "      <td>0.347594</td>\n",
       "      <td>0.298611</td>\n",
       "      <td>0.228029</td>\n",
       "      <td>0.325359</td>\n",
       "      <td>0.373626</td>\n",
       "      <td>0.234483</td>\n",
       "      <td>...</td>\n",
       "      <td>0.248062</td>\n",
       "      <td>0.341463</td>\n",
       "      <td>0.000000</td>\n",
       "      <td>0.000000</td>\n",
       "      <td>0.305785</td>\n",
       "      <td>0.102564</td>\n",
       "      <td>0.271309</td>\n",
       "      <td>0.313492</td>\n",
       "      <td>0.389497</td>\n",
       "      <td>0.000000</td>\n",
       "    </tr>\n",
       "    <tr>\n",
       "      <th>12</th>\n",
       "      <td>0.193798</td>\n",
       "      <td>0.202614</td>\n",
       "      <td>0.107843</td>\n",
       "      <td>0.216336</td>\n",
       "      <td>0.466667</td>\n",
       "      <td>0.318841</td>\n",
       "      <td>0.327747</td>\n",
       "      <td>0.165414</td>\n",
       "      <td>0.152231</td>\n",
       "      <td>0.172973</td>\n",
       "      <td>...</td>\n",
       "      <td>0.317391</td>\n",
       "      <td>0.520833</td>\n",
       "      <td>0.000000</td>\n",
       "      <td>0.000000</td>\n",
       "      <td>0.360976</td>\n",
       "      <td>0.110390</td>\n",
       "      <td>0.290948</td>\n",
       "      <td>0.000000</td>\n",
       "      <td>0.313346</td>\n",
       "      <td>0.000000</td>\n",
       "    </tr>\n",
       "    <tr>\n",
       "      <th>13</th>\n",
       "      <td>0.425121</td>\n",
       "      <td>0.241135</td>\n",
       "      <td>0.174905</td>\n",
       "      <td>0.132275</td>\n",
       "      <td>0.455324</td>\n",
       "      <td>0.187311</td>\n",
       "      <td>0.230769</td>\n",
       "      <td>0.341709</td>\n",
       "      <td>0.429298</td>\n",
       "      <td>0.140468</td>\n",
       "      <td>...</td>\n",
       "      <td>0.286486</td>\n",
       "      <td>0.307018</td>\n",
       "      <td>0.000000</td>\n",
       "      <td>0.000000</td>\n",
       "      <td>0.168627</td>\n",
       "      <td>0.111421</td>\n",
       "      <td>0.324805</td>\n",
       "      <td>0.394928</td>\n",
       "      <td>0.349892</td>\n",
       "      <td>0.000000</td>\n",
       "    </tr>\n",
       "    <tr>\n",
       "      <th>14</th>\n",
       "      <td>0.412281</td>\n",
       "      <td>0.276119</td>\n",
       "      <td>0.151394</td>\n",
       "      <td>0.194373</td>\n",
       "      <td>0.340633</td>\n",
       "      <td>0.326975</td>\n",
       "      <td>0.327122</td>\n",
       "      <td>0.347826</td>\n",
       "      <td>0.377079</td>\n",
       "      <td>0.158228</td>\n",
       "      <td>...</td>\n",
       "      <td>0.450575</td>\n",
       "      <td>0.500000</td>\n",
       "      <td>0.478673</td>\n",
       "      <td>0.236486</td>\n",
       "      <td>0.386525</td>\n",
       "      <td>0.040816</td>\n",
       "      <td>0.275626</td>\n",
       "      <td>0.474632</td>\n",
       "      <td>0.270613</td>\n",
       "      <td>0.356923</td>\n",
       "    </tr>\n",
       "  </tbody>\n",
       "</table>\n",
       "<p>15 rows × 120 columns</p>\n",
       "</div>"
      ],
      "text/plain": [
       "    s5_l10_2_MIITRA2.nii.gz  s5_r10_2_MIITRA2.nii.gz  s7_r10_2_MIITRA2.nii.gz  \\\n",
       "0                  0.227907                 0.270096                 0.188976   \n",
       "1                  0.120000                 0.362069                 0.210526   \n",
       "2                  0.324324                 0.098837                 0.121581   \n",
       "3                  0.295918                 0.117400                 0.132505   \n",
       "4                  0.116129                 0.505263                 0.341969   \n",
       "5                  0.181818                 0.205788                 0.102740   \n",
       "6                  0.095012                 0.256055                 0.094828   \n",
       "7                  0.344828                 0.240310                 0.081911   \n",
       "8                  0.234432                 0.091398                 0.097959   \n",
       "9                  0.120192                 0.085561                 0.000000   \n",
       "10                 0.251046                 0.114754                 0.181818   \n",
       "11                 0.307143                 0.317757                 0.060606   \n",
       "12                 0.193798                 0.202614                 0.107843   \n",
       "13                 0.425121                 0.241135                 0.174905   \n",
       "14                 0.412281                 0.276119                 0.151394   \n",
       "\n",
       "    s4_r2_Seg_4cl_S0_WBednoCSF_2_MIITRA2.nii.gz  \\\n",
       "0                                      0.138408   \n",
       "1                                      0.236715   \n",
       "2                                      0.289216   \n",
       "3                                      0.230576   \n",
       "4                                      0.236422   \n",
       "5                                      0.236776   \n",
       "6                                      0.244604   \n",
       "7                                      0.167421   \n",
       "8                                      0.149837   \n",
       "9                                      0.225895   \n",
       "10                                     0.121827   \n",
       "11                                     0.256983   \n",
       "12                                     0.216336   \n",
       "13                                     0.132275   \n",
       "14                                     0.194373   \n",
       "\n",
       "    s12_l3_Seg_4cl_S0_WBednoCSF_2_MIITRA2.nii.gz  \\\n",
       "0                                       0.291613   \n",
       "1                                       0.253416   \n",
       "2                                       0.391753   \n",
       "3                                       0.463646   \n",
       "4                                       0.348675   \n",
       "5                                       0.328798   \n",
       "6                                       0.482921   \n",
       "7                                       0.292108   \n",
       "8                                       0.272512   \n",
       "9                                       0.399507   \n",
       "10                                      0.358857   \n",
       "11                                      0.347594   \n",
       "12                                      0.466667   \n",
       "13                                      0.455324   \n",
       "14                                      0.340633   \n",
       "\n",
       "    s12_r2_Seg_4cl_S0_WBednoCSF_2_MIITRA2.nii.gz  \\\n",
       "0                                       0.238806   \n",
       "1                                       0.336842   \n",
       "2                                       0.290672   \n",
       "3                                       0.238411   \n",
       "4                                       0.340580   \n",
       "5                                       0.325333   \n",
       "6                                       0.291777   \n",
       "7                                       0.271357   \n",
       "8                                       0.177914   \n",
       "9                                       0.283525   \n",
       "10                                      0.215488   \n",
       "11                                      0.298611   \n",
       "12                                      0.318841   \n",
       "13                                      0.187311   \n",
       "14                                      0.326975   \n",
       "\n",
       "    s2_l2_Seg_4cl_S0_WBednoCSF_2_MIITRA2.nii.gz  s11_l10_2_MIITRA2.nii.gz  \\\n",
       "0                                      0.238806                  0.301158   \n",
       "1                                      0.268537                  0.136821   \n",
       "2                                      0.295082                  0.261682   \n",
       "3                                      0.335484                  0.275618   \n",
       "4                                      0.344615                  0.332075   \n",
       "5                                      0.345572                  0.208696   \n",
       "6                                      0.285714                  0.156863   \n",
       "7                                      0.302158                  0.321951   \n",
       "8                                      0.270023                  0.145946   \n",
       "9                                      0.230384                  0.123007   \n",
       "10                                     0.314465                  0.420290   \n",
       "11                                     0.228029                  0.325359   \n",
       "12                                     0.327747                  0.165414   \n",
       "13                                     0.230769                  0.341709   \n",
       "14                                     0.327122                  0.347826   \n",
       "\n",
       "    s1_r3_Seg_4cl_S0_WBednoCSF_2_MIITRA2.nii.gz  \\\n",
       "0                                      0.320356   \n",
       "1                                      0.475843   \n",
       "2                                      0.476364   \n",
       "3                                      0.374343   \n",
       "4                                      0.414508   \n",
       "5                                      0.382609   \n",
       "6                                      0.493333   \n",
       "7                                      0.314402   \n",
       "8                                      0.330761   \n",
       "9                                      0.408714   \n",
       "10                                     0.323559   \n",
       "11                                     0.373626   \n",
       "12                                     0.152231   \n",
       "13                                     0.429298   \n",
       "14                                     0.377079   \n",
       "\n",
       "    s5_r2_Seg_4cl_S0_WBednoCSF_2_MIITRA2.nii.gz  ...  \\\n",
       "0                                      0.082474  ...   \n",
       "1                                      0.179012  ...   \n",
       "2                                      0.225705  ...   \n",
       "3                                      0.155039  ...   \n",
       "4                                      0.157205  ...   \n",
       "5                                      0.205882  ...   \n",
       "6                                      0.192308  ...   \n",
       "7                                      0.150943  ...   \n",
       "8                                      0.151030  ...   \n",
       "9                                      0.178218  ...   \n",
       "10                                     0.113208  ...   \n",
       "11                                     0.234483  ...   \n",
       "12                                     0.172973  ...   \n",
       "13                                     0.140468  ...   \n",
       "14                                     0.158228  ...   \n",
       "\n",
       "    s10_l2_Seg_4cl_S0_WBednoCSF_2_MIITRA2.nii.gz  s12_l9_2_MIITRA2.nii.gz  \\\n",
       "0                                       0.167742                 0.289474   \n",
       "1                                       0.369231                 0.425121   \n",
       "2                                       0.398190                 0.349398   \n",
       "3                                       0.341463                 0.335025   \n",
       "4                                       0.314050                 0.295775   \n",
       "5                                       0.419643                 0.177340   \n",
       "6                                       0.291480                 0.318681   \n",
       "7                                       0.337950                 0.295918   \n",
       "8                                       0.310680                 0.261224   \n",
       "9                                       0.300654                 0.286822   \n",
       "10                                      0.302326                 0.433735   \n",
       "11                                      0.248062                 0.341463   \n",
       "12                                      0.317391                 0.520833   \n",
       "13                                      0.286486                 0.307018   \n",
       "14                                      0.450575                 0.500000   \n",
       "\n",
       "    s9_l1_Seg_4cl_S0_WBednoCSF_2_MIITRA2.nii.gz  \\\n",
       "0                                      0.355000   \n",
       "1                                      0.421875   \n",
       "2                                      0.459530   \n",
       "3                                      0.455090   \n",
       "4                                      0.008000   \n",
       "5                                      0.214634   \n",
       "6                                      0.445087   \n",
       "7                                      0.342342   \n",
       "8                                      0.527174   \n",
       "9                                      0.464986   \n",
       "10                                     0.103627   \n",
       "11                                     0.000000   \n",
       "12                                     0.000000   \n",
       "13                                     0.000000   \n",
       "14                                     0.478673   \n",
       "\n",
       "    s8_r1_Seg_4cl_S0_WBednoCSF_2_MIITRA2.nii.gz  \\\n",
       "0                                      0.238908   \n",
       "1                                      0.000000   \n",
       "2                                      0.274336   \n",
       "3                                      0.288066   \n",
       "4                                      0.000000   \n",
       "5                                      0.220994   \n",
       "6                                      0.256410   \n",
       "7                                      0.328767   \n",
       "8                                      0.000000   \n",
       "9                                      0.000000   \n",
       "10                                     0.228070   \n",
       "11                                     0.000000   \n",
       "12                                     0.000000   \n",
       "13                                     0.000000   \n",
       "14                                     0.236486   \n",
       "\n",
       "    s1_r2_Seg_4cl_S0_WBednoCSF_2_MIITRA2.nii.gz  s10_r10_2_MIITRA2.nii.gz  \\\n",
       "0                                      0.173302                  0.247863   \n",
       "1                                      0.378378                  0.102273   \n",
       "2                                      0.409222                  0.078049   \n",
       "3                                      0.255670                  0.153005   \n",
       "4                                      0.270742                  0.240602   \n",
       "5                                      0.333333                  0.082418   \n",
       "6                                      0.303226                  0.062696   \n",
       "7                                      0.339250                  0.137097   \n",
       "8                                      0.213178                  0.066667   \n",
       "9                                      0.309735                  0.088889   \n",
       "10                                     0.271698                  0.087379   \n",
       "11                                     0.305785                  0.102564   \n",
       "12                                     0.360976                  0.110390   \n",
       "13                                     0.168627                  0.111421   \n",
       "14                                     0.386525                  0.040816   \n",
       "\n",
       "    s2_l3_Seg_4cl_S0_WBednoCSF_2_MIITRA2.nii.gz  \\\n",
       "0                                      0.263033   \n",
       "1                                      0.228942   \n",
       "2                                      0.371459   \n",
       "3                                      0.279736   \n",
       "4                                      0.281352   \n",
       "5                                      0.280040   \n",
       "6                                      0.278876   \n",
       "7                                      0.289760   \n",
       "8                                      0.253763   \n",
       "9                                      0.351381   \n",
       "10                                     0.274973   \n",
       "11                                     0.271309   \n",
       "12                                     0.290948   \n",
       "13                                     0.324805   \n",
       "14                                     0.275626   \n",
       "\n",
       "    s1_l1_Seg_4cl_S0_WBednoCSF_2_MIITRA2.nii.gz  \\\n",
       "0                                      0.374753   \n",
       "1                                      0.345238   \n",
       "2                                      0.453152   \n",
       "3                                      0.361266   \n",
       "4                                      0.435754   \n",
       "5                                      0.447712   \n",
       "6                                      0.332665   \n",
       "7                                      0.565957   \n",
       "8                                      0.457565   \n",
       "9                                      0.410749   \n",
       "10                                     0.430823   \n",
       "11                                     0.313492   \n",
       "12                                     0.000000   \n",
       "13                                     0.394928   \n",
       "14                                     0.474632   \n",
       "\n",
       "    s7_r2_Seg_4cl_S0_WBednoCSF_2_MIITRA2.nii.gz  \\\n",
       "0                                      0.169972   \n",
       "1                                      0.307179   \n",
       "2                                      0.341564   \n",
       "3                                      0.266667   \n",
       "4                                      0.311224   \n",
       "5                                      0.297189   \n",
       "6                                      0.297297   \n",
       "7                                      0.229787   \n",
       "8                                      0.253333   \n",
       "9                                      0.213483   \n",
       "10                                     0.163265   \n",
       "11                                     0.389497   \n",
       "12                                     0.313346   \n",
       "13                                     0.349892   \n",
       "14                                     0.270613   \n",
       "\n",
       "    s8_l1_Seg_4cl_S0_WBednoCSF_2_MIITRA2.nii.gz  \n",
       "0                                      0.286885  \n",
       "1                                      0.303279  \n",
       "2                                      0.359322  \n",
       "3                                      0.283582  \n",
       "4                                      0.000000  \n",
       "5                                      0.000000  \n",
       "6                                      0.362140  \n",
       "7                                      0.000000  \n",
       "8                                      0.388664  \n",
       "9                                      0.339768  \n",
       "10                                     0.000000  \n",
       "11                                     0.000000  \n",
       "12                                     0.000000  \n",
       "13                                     0.000000  \n",
       "14                                     0.356923  \n",
       "\n",
       "[15 rows x 120 columns]"
      ]
     },
     "execution_count": 10,
     "metadata": {},
     "output_type": "execute_result"
    }
   ],
   "source": [
    "dice_dict={i:v for i,v in dice_dict.items() if len(v)}\n",
    "df=pd.DataFrame.from_dict(dice_dict)\n",
    "df"
   ]
  },
  {
   "cell_type": "code",
   "execution_count": 11,
   "id": "bfbc454a-53b3-4dce-9ff7-1043294bef80",
   "metadata": {},
   "outputs": [],
   "source": [
    "df.to_csv(\"fcm_segmentations.csv\",index=True)"
   ]
  },
  {
   "cell_type": "code",
   "execution_count": 13,
   "id": "b67cd48f-780c-4690-bd9d-c357ff92a1b6",
   "metadata": {},
   "outputs": [
    {
     "data": {
      "text/html": [
       "<div>\n",
       "<style scoped>\n",
       "    .dataframe tbody tr th:only-of-type {\n",
       "        vertical-align: middle;\n",
       "    }\n",
       "\n",
       "    .dataframe tbody tr th {\n",
       "        vertical-align: top;\n",
       "    }\n",
       "\n",
       "    .dataframe thead th {\n",
       "        text-align: right;\n",
       "    }\n",
       "</style>\n",
       "<table border=\"1\" class=\"dataframe\">\n",
       "  <thead>\n",
       "    <tr style=\"text-align: right;\">\n",
       "      <th></th>\n",
       "      <th>s5_l10_2_MIITRA2.nii.gz</th>\n",
       "      <th>s5_r10_2_MIITRA2.nii.gz</th>\n",
       "      <th>s7_r10_2_MIITRA2.nii.gz</th>\n",
       "      <th>s4_r2_Seg_4cl_S0_WBednoCSF_2_MIITRA2.nii.gz</th>\n",
       "      <th>s12_l3_Seg_4cl_S0_WBednoCSF_2_MIITRA2.nii.gz</th>\n",
       "      <th>s12_r2_Seg_4cl_S0_WBednoCSF_2_MIITRA2.nii.gz</th>\n",
       "      <th>s2_l2_Seg_4cl_S0_WBednoCSF_2_MIITRA2.nii.gz</th>\n",
       "      <th>s11_l10_2_MIITRA2.nii.gz</th>\n",
       "      <th>s1_r3_Seg_4cl_S0_WBednoCSF_2_MIITRA2.nii.gz</th>\n",
       "      <th>s5_r2_Seg_4cl_S0_WBednoCSF_2_MIITRA2.nii.gz</th>\n",
       "      <th>...</th>\n",
       "      <th>s10_l2_Seg_4cl_S0_WBednoCSF_2_MIITRA2.nii.gz</th>\n",
       "      <th>s12_l9_2_MIITRA2.nii.gz</th>\n",
       "      <th>s9_l1_Seg_4cl_S0_WBednoCSF_2_MIITRA2.nii.gz</th>\n",
       "      <th>s8_r1_Seg_4cl_S0_WBednoCSF_2_MIITRA2.nii.gz</th>\n",
       "      <th>s1_r2_Seg_4cl_S0_WBednoCSF_2_MIITRA2.nii.gz</th>\n",
       "      <th>s10_r10_2_MIITRA2.nii.gz</th>\n",
       "      <th>s2_l3_Seg_4cl_S0_WBednoCSF_2_MIITRA2.nii.gz</th>\n",
       "      <th>s1_l1_Seg_4cl_S0_WBednoCSF_2_MIITRA2.nii.gz</th>\n",
       "      <th>s7_r2_Seg_4cl_S0_WBednoCSF_2_MIITRA2.nii.gz</th>\n",
       "      <th>s8_l1_Seg_4cl_S0_WBednoCSF_2_MIITRA2.nii.gz</th>\n",
       "    </tr>\n",
       "  </thead>\n",
       "  <tbody>\n",
       "    <tr>\n",
       "      <th>count</th>\n",
       "      <td>15.000000</td>\n",
       "      <td>15.000000</td>\n",
       "      <td>15.000000</td>\n",
       "      <td>15.000000</td>\n",
       "      <td>15.000000</td>\n",
       "      <td>15.000000</td>\n",
       "      <td>15.000000</td>\n",
       "      <td>15.000000</td>\n",
       "      <td>15.000000</td>\n",
       "      <td>15.000000</td>\n",
       "      <td>...</td>\n",
       "      <td>15.000000</td>\n",
       "      <td>15.000000</td>\n",
       "      <td>15.000000</td>\n",
       "      <td>15.000000</td>\n",
       "      <td>15.000000</td>\n",
       "      <td>15.000000</td>\n",
       "      <td>15.000000</td>\n",
       "      <td>15.000000</td>\n",
       "      <td>15.000000</td>\n",
       "      <td>15.000000</td>\n",
       "    </tr>\n",
       "    <tr>\n",
       "      <th>mean</th>\n",
       "      <td>0.243330</td>\n",
       "      <td>0.225677</td>\n",
       "      <td>0.136637</td>\n",
       "      <td>0.205178</td>\n",
       "      <td>0.366268</td>\n",
       "      <td>0.276163</td>\n",
       "      <td>0.289634</td>\n",
       "      <td>0.257628</td>\n",
       "      <td>0.376468</td>\n",
       "      <td>0.166478</td>\n",
       "      <td>...</td>\n",
       "      <td>0.323728</td>\n",
       "      <td>0.342522</td>\n",
       "      <td>0.285068</td>\n",
       "      <td>0.138136</td>\n",
       "      <td>0.298643</td>\n",
       "      <td>0.114142</td>\n",
       "      <td>0.287734</td>\n",
       "      <td>0.386579</td>\n",
       "      <td>0.278287</td>\n",
       "      <td>0.178704</td>\n",
       "    </tr>\n",
       "    <tr>\n",
       "      <th>std</th>\n",
       "      <td>0.107057</td>\n",
       "      <td>0.116451</td>\n",
       "      <td>0.078828</td>\n",
       "      <td>0.051265</td>\n",
       "      <td>0.074751</td>\n",
       "      <td>0.053277</td>\n",
       "      <td>0.043190</td>\n",
       "      <td>0.094267</td>\n",
       "      <td>0.084942</td>\n",
       "      <td>0.039664</td>\n",
       "      <td>...</td>\n",
       "      <td>0.069282</td>\n",
       "      <td>0.091744</td>\n",
       "      <td>0.206803</td>\n",
       "      <td>0.136201</td>\n",
       "      <td>0.073926</td>\n",
       "      <td>0.059850</td>\n",
       "      <td>0.036343</td>\n",
       "      <td>0.124885</td>\n",
       "      <td>0.064197</td>\n",
       "      <td>0.175219</td>\n",
       "    </tr>\n",
       "    <tr>\n",
       "      <th>min</th>\n",
       "      <td>0.095012</td>\n",
       "      <td>0.085561</td>\n",
       "      <td>0.000000</td>\n",
       "      <td>0.121827</td>\n",
       "      <td>0.253416</td>\n",
       "      <td>0.177914</td>\n",
       "      <td>0.228029</td>\n",
       "      <td>0.123007</td>\n",
       "      <td>0.152231</td>\n",
       "      <td>0.082474</td>\n",
       "      <td>...</td>\n",
       "      <td>0.167742</td>\n",
       "      <td>0.177340</td>\n",
       "      <td>0.000000</td>\n",
       "      <td>0.000000</td>\n",
       "      <td>0.168627</td>\n",
       "      <td>0.040816</td>\n",
       "      <td>0.228942</td>\n",
       "      <td>0.000000</td>\n",
       "      <td>0.163265</td>\n",
       "      <td>0.000000</td>\n",
       "    </tr>\n",
       "    <tr>\n",
       "      <th>25%</th>\n",
       "      <td>0.151005</td>\n",
       "      <td>0.116077</td>\n",
       "      <td>0.096393</td>\n",
       "      <td>0.158629</td>\n",
       "      <td>0.310453</td>\n",
       "      <td>0.238608</td>\n",
       "      <td>0.253672</td>\n",
       "      <td>0.161138</td>\n",
       "      <td>0.327160</td>\n",
       "      <td>0.150987</td>\n",
       "      <td>...</td>\n",
       "      <td>0.296067</td>\n",
       "      <td>0.292624</td>\n",
       "      <td>0.055813</td>\n",
       "      <td>0.000000</td>\n",
       "      <td>0.263206</td>\n",
       "      <td>0.080233</td>\n",
       "      <td>0.273141</td>\n",
       "      <td>0.353252</td>\n",
       "      <td>0.241560</td>\n",
       "      <td>0.000000</td>\n",
       "    </tr>\n",
       "    <tr>\n",
       "      <th>50%</th>\n",
       "      <td>0.234432</td>\n",
       "      <td>0.240310</td>\n",
       "      <td>0.121581</td>\n",
       "      <td>0.225895</td>\n",
       "      <td>0.348675</td>\n",
       "      <td>0.290672</td>\n",
       "      <td>0.295082</td>\n",
       "      <td>0.275618</td>\n",
       "      <td>0.377079</td>\n",
       "      <td>0.158228</td>\n",
       "      <td>...</td>\n",
       "      <td>0.314050</td>\n",
       "      <td>0.318681</td>\n",
       "      <td>0.355000</td>\n",
       "      <td>0.220994</td>\n",
       "      <td>0.305785</td>\n",
       "      <td>0.102273</td>\n",
       "      <td>0.279736</td>\n",
       "      <td>0.410749</td>\n",
       "      <td>0.297189</td>\n",
       "      <td>0.283582</td>\n",
       "    </tr>\n",
       "    <tr>\n",
       "      <th>75%</th>\n",
       "      <td>0.315734</td>\n",
       "      <td>0.273108</td>\n",
       "      <td>0.178362</td>\n",
       "      <td>0.236745</td>\n",
       "      <td>0.427416</td>\n",
       "      <td>0.322087</td>\n",
       "      <td>0.327434</td>\n",
       "      <td>0.328717</td>\n",
       "      <td>0.421903</td>\n",
       "      <td>0.185660</td>\n",
       "      <td>...</td>\n",
       "      <td>0.355347</td>\n",
       "      <td>0.387259</td>\n",
       "      <td>0.457310</td>\n",
       "      <td>0.247659</td>\n",
       "      <td>0.350113</td>\n",
       "      <td>0.124259</td>\n",
       "      <td>0.290354</td>\n",
       "      <td>0.450432</td>\n",
       "      <td>0.312285</td>\n",
       "      <td>0.348346</td>\n",
       "    </tr>\n",
       "    <tr>\n",
       "      <th>max</th>\n",
       "      <td>0.425121</td>\n",
       "      <td>0.505263</td>\n",
       "      <td>0.341969</td>\n",
       "      <td>0.289216</td>\n",
       "      <td>0.482921</td>\n",
       "      <td>0.340580</td>\n",
       "      <td>0.345572</td>\n",
       "      <td>0.420290</td>\n",
       "      <td>0.493333</td>\n",
       "      <td>0.234483</td>\n",
       "      <td>...</td>\n",
       "      <td>0.450575</td>\n",
       "      <td>0.520833</td>\n",
       "      <td>0.527174</td>\n",
       "      <td>0.328767</td>\n",
       "      <td>0.409222</td>\n",
       "      <td>0.247863</td>\n",
       "      <td>0.371459</td>\n",
       "      <td>0.565957</td>\n",
       "      <td>0.389497</td>\n",
       "      <td>0.388664</td>\n",
       "    </tr>\n",
       "  </tbody>\n",
       "</table>\n",
       "<p>8 rows × 120 columns</p>\n",
       "</div>"
      ],
      "text/plain": [
       "       s5_l10_2_MIITRA2.nii.gz  s5_r10_2_MIITRA2.nii.gz  \\\n",
       "count                15.000000                15.000000   \n",
       "mean                  0.243330                 0.225677   \n",
       "std                   0.107057                 0.116451   \n",
       "min                   0.095012                 0.085561   \n",
       "25%                   0.151005                 0.116077   \n",
       "50%                   0.234432                 0.240310   \n",
       "75%                   0.315734                 0.273108   \n",
       "max                   0.425121                 0.505263   \n",
       "\n",
       "       s7_r10_2_MIITRA2.nii.gz  s4_r2_Seg_4cl_S0_WBednoCSF_2_MIITRA2.nii.gz  \\\n",
       "count                15.000000                                    15.000000   \n",
       "mean                  0.136637                                     0.205178   \n",
       "std                   0.078828                                     0.051265   \n",
       "min                   0.000000                                     0.121827   \n",
       "25%                   0.096393                                     0.158629   \n",
       "50%                   0.121581                                     0.225895   \n",
       "75%                   0.178362                                     0.236745   \n",
       "max                   0.341969                                     0.289216   \n",
       "\n",
       "       s12_l3_Seg_4cl_S0_WBednoCSF_2_MIITRA2.nii.gz  \\\n",
       "count                                     15.000000   \n",
       "mean                                       0.366268   \n",
       "std                                        0.074751   \n",
       "min                                        0.253416   \n",
       "25%                                        0.310453   \n",
       "50%                                        0.348675   \n",
       "75%                                        0.427416   \n",
       "max                                        0.482921   \n",
       "\n",
       "       s12_r2_Seg_4cl_S0_WBednoCSF_2_MIITRA2.nii.gz  \\\n",
       "count                                     15.000000   \n",
       "mean                                       0.276163   \n",
       "std                                        0.053277   \n",
       "min                                        0.177914   \n",
       "25%                                        0.238608   \n",
       "50%                                        0.290672   \n",
       "75%                                        0.322087   \n",
       "max                                        0.340580   \n",
       "\n",
       "       s2_l2_Seg_4cl_S0_WBednoCSF_2_MIITRA2.nii.gz  s11_l10_2_MIITRA2.nii.gz  \\\n",
       "count                                    15.000000                 15.000000   \n",
       "mean                                      0.289634                  0.257628   \n",
       "std                                       0.043190                  0.094267   \n",
       "min                                       0.228029                  0.123007   \n",
       "25%                                       0.253672                  0.161138   \n",
       "50%                                       0.295082                  0.275618   \n",
       "75%                                       0.327434                  0.328717   \n",
       "max                                       0.345572                  0.420290   \n",
       "\n",
       "       s1_r3_Seg_4cl_S0_WBednoCSF_2_MIITRA2.nii.gz  \\\n",
       "count                                    15.000000   \n",
       "mean                                      0.376468   \n",
       "std                                       0.084942   \n",
       "min                                       0.152231   \n",
       "25%                                       0.327160   \n",
       "50%                                       0.377079   \n",
       "75%                                       0.421903   \n",
       "max                                       0.493333   \n",
       "\n",
       "       s5_r2_Seg_4cl_S0_WBednoCSF_2_MIITRA2.nii.gz  ...  \\\n",
       "count                                    15.000000  ...   \n",
       "mean                                      0.166478  ...   \n",
       "std                                       0.039664  ...   \n",
       "min                                       0.082474  ...   \n",
       "25%                                       0.150987  ...   \n",
       "50%                                       0.158228  ...   \n",
       "75%                                       0.185660  ...   \n",
       "max                                       0.234483  ...   \n",
       "\n",
       "       s10_l2_Seg_4cl_S0_WBednoCSF_2_MIITRA2.nii.gz  s12_l9_2_MIITRA2.nii.gz  \\\n",
       "count                                     15.000000                15.000000   \n",
       "mean                                       0.323728                 0.342522   \n",
       "std                                        0.069282                 0.091744   \n",
       "min                                        0.167742                 0.177340   \n",
       "25%                                        0.296067                 0.292624   \n",
       "50%                                        0.314050                 0.318681   \n",
       "75%                                        0.355347                 0.387259   \n",
       "max                                        0.450575                 0.520833   \n",
       "\n",
       "       s9_l1_Seg_4cl_S0_WBednoCSF_2_MIITRA2.nii.gz  \\\n",
       "count                                    15.000000   \n",
       "mean                                      0.285068   \n",
       "std                                       0.206803   \n",
       "min                                       0.000000   \n",
       "25%                                       0.055813   \n",
       "50%                                       0.355000   \n",
       "75%                                       0.457310   \n",
       "max                                       0.527174   \n",
       "\n",
       "       s8_r1_Seg_4cl_S0_WBednoCSF_2_MIITRA2.nii.gz  \\\n",
       "count                                    15.000000   \n",
       "mean                                      0.138136   \n",
       "std                                       0.136201   \n",
       "min                                       0.000000   \n",
       "25%                                       0.000000   \n",
       "50%                                       0.220994   \n",
       "75%                                       0.247659   \n",
       "max                                       0.328767   \n",
       "\n",
       "       s1_r2_Seg_4cl_S0_WBednoCSF_2_MIITRA2.nii.gz  s10_r10_2_MIITRA2.nii.gz  \\\n",
       "count                                    15.000000                 15.000000   \n",
       "mean                                      0.298643                  0.114142   \n",
       "std                                       0.073926                  0.059850   \n",
       "min                                       0.168627                  0.040816   \n",
       "25%                                       0.263206                  0.080233   \n",
       "50%                                       0.305785                  0.102273   \n",
       "75%                                       0.350113                  0.124259   \n",
       "max                                       0.409222                  0.247863   \n",
       "\n",
       "       s2_l3_Seg_4cl_S0_WBednoCSF_2_MIITRA2.nii.gz  \\\n",
       "count                                    15.000000   \n",
       "mean                                      0.287734   \n",
       "std                                       0.036343   \n",
       "min                                       0.228942   \n",
       "25%                                       0.273141   \n",
       "50%                                       0.279736   \n",
       "75%                                       0.290354   \n",
       "max                                       0.371459   \n",
       "\n",
       "       s1_l1_Seg_4cl_S0_WBednoCSF_2_MIITRA2.nii.gz  \\\n",
       "count                                    15.000000   \n",
       "mean                                      0.386579   \n",
       "std                                       0.124885   \n",
       "min                                       0.000000   \n",
       "25%                                       0.353252   \n",
       "50%                                       0.410749   \n",
       "75%                                       0.450432   \n",
       "max                                       0.565957   \n",
       "\n",
       "       s7_r2_Seg_4cl_S0_WBednoCSF_2_MIITRA2.nii.gz  \\\n",
       "count                                    15.000000   \n",
       "mean                                      0.278287   \n",
       "std                                       0.064197   \n",
       "min                                       0.163265   \n",
       "25%                                       0.241560   \n",
       "50%                                       0.297189   \n",
       "75%                                       0.312285   \n",
       "max                                       0.389497   \n",
       "\n",
       "       s8_l1_Seg_4cl_S0_WBednoCSF_2_MIITRA2.nii.gz  \n",
       "count                                    15.000000  \n",
       "mean                                      0.178704  \n",
       "std                                       0.175219  \n",
       "min                                       0.000000  \n",
       "25%                                       0.000000  \n",
       "50%                                       0.283582  \n",
       "75%                                       0.348346  \n",
       "max                                       0.388664  \n",
       "\n",
       "[8 rows x 120 columns]"
      ]
     },
     "execution_count": 13,
     "metadata": {},
     "output_type": "execute_result"
    }
   ],
   "source": [
    "df.describe()"
   ]
  },
  {
   "cell_type": "code",
   "execution_count": 14,
   "id": "0400b737-562d-4b63-b75f-0f0ba267711a",
   "metadata": {},
   "outputs": [
    {
     "data": {
      "text/plain": [
       "103"
      ]
     },
     "execution_count": 14,
     "metadata": {},
     "output_type": "execute_result"
    }
   ],
   "source": [
    "(df==0).sum().sum()"
   ]
  },
  {
   "cell_type": "markdown",
   "id": "d83867a3-b47d-401a-a3aa-51245ce4b172",
   "metadata": {},
   "source": [
    "## Make them probalistic out"
   ]
  },
  {
   "cell_type": "code",
   "execution_count": 16,
   "id": "126015c9-2b8e-4f2d-a1f3-edbdaa20af3e",
   "metadata": {},
   "outputs": [],
   "source": [
    "target_names=[\"s*_l10_2_MIITRA2.nii.gz\",                 \n",
    "\"s*_l1_Seg_4cl_S0_WBednoCSF_2_MIITRA2.nii.gz\", \n",
    "\"s*_l2_Seg_4cl_S0_WBednoCSF_2_MIITRA2.nii.gz\", \n",
    "\"s*_l3_Seg_4cl_S0_WBednoCSF_2_MIITRA2.nii.gz\",\n",
    "\"s*_l9_2_MIITRA2.nii.gz\", \n",
    "\"s*_r10_2_MIITRA2.nii.gz\",                 \n",
    "\"s*_r1_Seg_4cl_S0_WBednoCSF_2_MIITRA2.nii.gz\", \n",
    "\"s*_r2_Seg_4cl_S0_WBednoCSF_2_MIITRA2.nii.gz\", \n",
    "\"s*_r3_Seg_4cl_S0_WBednoCSF_2_MIITRA2.nii.gz\",\n",
    "\"s*_r9_2_MIITRA2.nii.gz\"]\n"
   ]
  },
  {
   "cell_type": "code",
   "execution_count": 28,
   "id": "cdef0881-5dde-4b5b-97b6-480e7bc57eb4",
   "metadata": {},
   "outputs": [
    {
     "name": "stderr",
     "output_type": "stream",
     "text": [
      " 56%|████████████████████████▊                   | 9/16 [06:04<04:44, 40.62s/it]"
     ]
    },
    {
     "name": "stdout",
     "output_type": "stream",
     "text": [
      "could not load fcm_segmentations/.ipynb_checkpoints/s1_l10_2_MIITRA2.nii.gz\n",
      "could not load fcm_segmentations/.ipynb_checkpoints/s2_l10_2_MIITRA2.nii.gz\n",
      "could not load fcm_segmentations/.ipynb_checkpoints/s3_l10_2_MIITRA2.nii.gz\n",
      "could not load fcm_segmentations/.ipynb_checkpoints/s4_l10_2_MIITRA2.nii.gz\n",
      "could not load fcm_segmentations/.ipynb_checkpoints/s5_l10_2_MIITRA2.nii.gz\n",
      "could not load fcm_segmentations/.ipynb_checkpoints/s6_l10_2_MIITRA2.nii.gz\n",
      "could not load fcm_segmentations/.ipynb_checkpoints/s7_l10_2_MIITRA2.nii.gz\n",
      "could not load fcm_segmentations/.ipynb_checkpoints/s8_l10_2_MIITRA2.nii.gz\n",
      "could not load fcm_segmentations/.ipynb_checkpoints/s9_l10_2_MIITRA2.nii.gz\n",
      "could not load fcm_segmentations/.ipynb_checkpoints/s10_l10_2_MIITRA2.nii.gz\n",
      "could not load fcm_segmentations/.ipynb_checkpoints/s11_l10_2_MIITRA2.nii.gz\n",
      "could not load fcm_segmentations/.ipynb_checkpoints/s12_l10_2_MIITRA2.nii.gz\n",
      "could not load fcm_segmentations/.ipynb_checkpoints/s1_l1_Seg_4cl_S0_WBednoCSF_2_MIITRA2.nii.gz\n",
      "could not load fcm_segmentations/.ipynb_checkpoints/s2_l1_Seg_4cl_S0_WBednoCSF_2_MIITRA2.nii.gz\n",
      "could not load fcm_segmentations/.ipynb_checkpoints/s3_l1_Seg_4cl_S0_WBednoCSF_2_MIITRA2.nii.gz\n",
      "could not load fcm_segmentations/.ipynb_checkpoints/s4_l1_Seg_4cl_S0_WBednoCSF_2_MIITRA2.nii.gz\n",
      "could not load fcm_segmentations/.ipynb_checkpoints/s5_l1_Seg_4cl_S0_WBednoCSF_2_MIITRA2.nii.gz\n",
      "could not load fcm_segmentations/.ipynb_checkpoints/s6_l1_Seg_4cl_S0_WBednoCSF_2_MIITRA2.nii.gz\n",
      "could not load fcm_segmentations/.ipynb_checkpoints/s7_l1_Seg_4cl_S0_WBednoCSF_2_MIITRA2.nii.gz\n",
      "could not load fcm_segmentations/.ipynb_checkpoints/s8_l1_Seg_4cl_S0_WBednoCSF_2_MIITRA2.nii.gz\n",
      "could not load fcm_segmentations/.ipynb_checkpoints/s9_l1_Seg_4cl_S0_WBednoCSF_2_MIITRA2.nii.gz\n",
      "could not load fcm_segmentations/.ipynb_checkpoints/s10_l1_Seg_4cl_S0_WBednoCSF_2_MIITRA2.nii.gz\n",
      "could not load fcm_segmentations/.ipynb_checkpoints/s11_l1_Seg_4cl_S0_WBednoCSF_2_MIITRA2.nii.gz\n",
      "could not load fcm_segmentations/.ipynb_checkpoints/s12_l1_Seg_4cl_S0_WBednoCSF_2_MIITRA2.nii.gz\n",
      "could not load fcm_segmentations/.ipynb_checkpoints/s1_l2_Seg_4cl_S0_WBednoCSF_2_MIITRA2.nii.gz\n",
      "could not load fcm_segmentations/.ipynb_checkpoints/s2_l2_Seg_4cl_S0_WBednoCSF_2_MIITRA2.nii.gz\n",
      "could not load fcm_segmentations/.ipynb_checkpoints/s3_l2_Seg_4cl_S0_WBednoCSF_2_MIITRA2.nii.gz\n",
      "could not load fcm_segmentations/.ipynb_checkpoints/s4_l2_Seg_4cl_S0_WBednoCSF_2_MIITRA2.nii.gz\n",
      "could not load fcm_segmentations/.ipynb_checkpoints/s5_l2_Seg_4cl_S0_WBednoCSF_2_MIITRA2.nii.gz\n",
      "could not load fcm_segmentations/.ipynb_checkpoints/s6_l2_Seg_4cl_S0_WBednoCSF_2_MIITRA2.nii.gz\n",
      "could not load fcm_segmentations/.ipynb_checkpoints/s7_l2_Seg_4cl_S0_WBednoCSF_2_MIITRA2.nii.gz\n",
      "could not load fcm_segmentations/.ipynb_checkpoints/s8_l2_Seg_4cl_S0_WBednoCSF_2_MIITRA2.nii.gz\n",
      "could not load fcm_segmentations/.ipynb_checkpoints/s9_l2_Seg_4cl_S0_WBednoCSF_2_MIITRA2.nii.gz\n",
      "could not load fcm_segmentations/.ipynb_checkpoints/s10_l2_Seg_4cl_S0_WBednoCSF_2_MIITRA2.nii.gz\n",
      "could not load fcm_segmentations/.ipynb_checkpoints/s11_l2_Seg_4cl_S0_WBednoCSF_2_MIITRA2.nii.gz\n",
      "could not load fcm_segmentations/.ipynb_checkpoints/s12_l2_Seg_4cl_S0_WBednoCSF_2_MIITRA2.nii.gz\n",
      "could not load fcm_segmentations/.ipynb_checkpoints/s1_l3_Seg_4cl_S0_WBednoCSF_2_MIITRA2.nii.gz\n",
      "could not load fcm_segmentations/.ipynb_checkpoints/s2_l3_Seg_4cl_S0_WBednoCSF_2_MIITRA2.nii.gz\n",
      "could not load fcm_segmentations/.ipynb_checkpoints/s3_l3_Seg_4cl_S0_WBednoCSF_2_MIITRA2.nii.gz\n",
      "could not load fcm_segmentations/.ipynb_checkpoints/s4_l3_Seg_4cl_S0_WBednoCSF_2_MIITRA2.nii.gz\n",
      "could not load fcm_segmentations/.ipynb_checkpoints/s5_l3_Seg_4cl_S0_WBednoCSF_2_MIITRA2.nii.gz\n",
      "could not load fcm_segmentations/.ipynb_checkpoints/s6_l3_Seg_4cl_S0_WBednoCSF_2_MIITRA2.nii.gz\n",
      "could not load fcm_segmentations/.ipynb_checkpoints/s7_l3_Seg_4cl_S0_WBednoCSF_2_MIITRA2.nii.gz\n",
      "could not load fcm_segmentations/.ipynb_checkpoints/s8_l3_Seg_4cl_S0_WBednoCSF_2_MIITRA2.nii.gz\n",
      "could not load fcm_segmentations/.ipynb_checkpoints/s9_l3_Seg_4cl_S0_WBednoCSF_2_MIITRA2.nii.gz\n",
      "could not load fcm_segmentations/.ipynb_checkpoints/s10_l3_Seg_4cl_S0_WBednoCSF_2_MIITRA2.nii.gz\n",
      "could not load fcm_segmentations/.ipynb_checkpoints/s11_l3_Seg_4cl_S0_WBednoCSF_2_MIITRA2.nii.gz\n",
      "could not load fcm_segmentations/.ipynb_checkpoints/s12_l3_Seg_4cl_S0_WBednoCSF_2_MIITRA2.nii.gz\n",
      "could not load fcm_segmentations/.ipynb_checkpoints/s1_l9_2_MIITRA2.nii.gz\n",
      "could not load fcm_segmentations/.ipynb_checkpoints/s2_l9_2_MIITRA2.nii.gz\n",
      "could not load fcm_segmentations/.ipynb_checkpoints/s3_l9_2_MIITRA2.nii.gz\n",
      "could not load fcm_segmentations/.ipynb_checkpoints/s4_l9_2_MIITRA2.nii.gz\n",
      "could not load fcm_segmentations/.ipynb_checkpoints/s5_l9_2_MIITRA2.nii.gz\n",
      "could not load fcm_segmentations/.ipynb_checkpoints/s6_l9_2_MIITRA2.nii.gz\n",
      "could not load fcm_segmentations/.ipynb_checkpoints/s7_l9_2_MIITRA2.nii.gz\n",
      "could not load fcm_segmentations/.ipynb_checkpoints/s8_l9_2_MIITRA2.nii.gz\n",
      "could not load fcm_segmentations/.ipynb_checkpoints/s9_l9_2_MIITRA2.nii.gz\n",
      "could not load fcm_segmentations/.ipynb_checkpoints/s10_l9_2_MIITRA2.nii.gz\n",
      "could not load fcm_segmentations/.ipynb_checkpoints/s11_l9_2_MIITRA2.nii.gz\n",
      "could not load fcm_segmentations/.ipynb_checkpoints/s12_l9_2_MIITRA2.nii.gz\n",
      "could not load fcm_segmentations/.ipynb_checkpoints/s1_r10_2_MIITRA2.nii.gz\n",
      "could not load fcm_segmentations/.ipynb_checkpoints/s2_r10_2_MIITRA2.nii.gz\n",
      "could not load fcm_segmentations/.ipynb_checkpoints/s3_r10_2_MIITRA2.nii.gz\n",
      "could not load fcm_segmentations/.ipynb_checkpoints/s4_r10_2_MIITRA2.nii.gz\n",
      "could not load fcm_segmentations/.ipynb_checkpoints/s5_r10_2_MIITRA2.nii.gz\n",
      "could not load fcm_segmentations/.ipynb_checkpoints/s6_r10_2_MIITRA2.nii.gz\n",
      "could not load fcm_segmentations/.ipynb_checkpoints/s7_r10_2_MIITRA2.nii.gz\n",
      "could not load fcm_segmentations/.ipynb_checkpoints/s8_r10_2_MIITRA2.nii.gz\n",
      "could not load fcm_segmentations/.ipynb_checkpoints/s9_r10_2_MIITRA2.nii.gz\n",
      "could not load fcm_segmentations/.ipynb_checkpoints/s10_r10_2_MIITRA2.nii.gz\n",
      "could not load fcm_segmentations/.ipynb_checkpoints/s11_r10_2_MIITRA2.nii.gz\n",
      "could not load fcm_segmentations/.ipynb_checkpoints/s12_r10_2_MIITRA2.nii.gz\n",
      "could not load fcm_segmentations/.ipynb_checkpoints/s1_r1_Seg_4cl_S0_WBednoCSF_2_MIITRA2.nii.gz\n",
      "could not load fcm_segmentations/.ipynb_checkpoints/s2_r1_Seg_4cl_S0_WBednoCSF_2_MIITRA2.nii.gz\n",
      "could not load fcm_segmentations/.ipynb_checkpoints/s3_r1_Seg_4cl_S0_WBednoCSF_2_MIITRA2.nii.gz\n",
      "could not load fcm_segmentations/.ipynb_checkpoints/s4_r1_Seg_4cl_S0_WBednoCSF_2_MIITRA2.nii.gz\n",
      "could not load fcm_segmentations/.ipynb_checkpoints/s5_r1_Seg_4cl_S0_WBednoCSF_2_MIITRA2.nii.gz\n",
      "could not load fcm_segmentations/.ipynb_checkpoints/s6_r1_Seg_4cl_S0_WBednoCSF_2_MIITRA2.nii.gz\n",
      "could not load fcm_segmentations/.ipynb_checkpoints/s7_r1_Seg_4cl_S0_WBednoCSF_2_MIITRA2.nii.gz\n",
      "could not load fcm_segmentations/.ipynb_checkpoints/s8_r1_Seg_4cl_S0_WBednoCSF_2_MIITRA2.nii.gz\n",
      "could not load fcm_segmentations/.ipynb_checkpoints/s9_r1_Seg_4cl_S0_WBednoCSF_2_MIITRA2.nii.gz\n",
      "could not load fcm_segmentations/.ipynb_checkpoints/s10_r1_Seg_4cl_S0_WBednoCSF_2_MIITRA2.nii.gz\n",
      "could not load fcm_segmentations/.ipynb_checkpoints/s11_r1_Seg_4cl_S0_WBednoCSF_2_MIITRA2.nii.gz\n",
      "could not load fcm_segmentations/.ipynb_checkpoints/s12_r1_Seg_4cl_S0_WBednoCSF_2_MIITRA2.nii.gz\n",
      "could not load fcm_segmentations/.ipynb_checkpoints/s1_r2_Seg_4cl_S0_WBednoCSF_2_MIITRA2.nii.gz\n",
      "could not load fcm_segmentations/.ipynb_checkpoints/s2_r2_Seg_4cl_S0_WBednoCSF_2_MIITRA2.nii.gz\n",
      "could not load fcm_segmentations/.ipynb_checkpoints/s3_r2_Seg_4cl_S0_WBednoCSF_2_MIITRA2.nii.gz\n",
      "could not load fcm_segmentations/.ipynb_checkpoints/s4_r2_Seg_4cl_S0_WBednoCSF_2_MIITRA2.nii.gz\n",
      "could not load fcm_segmentations/.ipynb_checkpoints/s5_r2_Seg_4cl_S0_WBednoCSF_2_MIITRA2.nii.gz\n",
      "could not load fcm_segmentations/.ipynb_checkpoints/s6_r2_Seg_4cl_S0_WBednoCSF_2_MIITRA2.nii.gz\n",
      "could not load fcm_segmentations/.ipynb_checkpoints/s7_r2_Seg_4cl_S0_WBednoCSF_2_MIITRA2.nii.gz\n",
      "could not load fcm_segmentations/.ipynb_checkpoints/s8_r2_Seg_4cl_S0_WBednoCSF_2_MIITRA2.nii.gz\n",
      "could not load fcm_segmentations/.ipynb_checkpoints/s9_r2_Seg_4cl_S0_WBednoCSF_2_MIITRA2.nii.gz\n",
      "could not load fcm_segmentations/.ipynb_checkpoints/s10_r2_Seg_4cl_S0_WBednoCSF_2_MIITRA2.nii.gz\n",
      "could not load fcm_segmentations/.ipynb_checkpoints/s11_r2_Seg_4cl_S0_WBednoCSF_2_MIITRA2.nii.gz\n",
      "could not load fcm_segmentations/.ipynb_checkpoints/s12_r2_Seg_4cl_S0_WBednoCSF_2_MIITRA2.nii.gz\n",
      "could not load fcm_segmentations/.ipynb_checkpoints/s1_r3_Seg_4cl_S0_WBednoCSF_2_MIITRA2.nii.gz\n",
      "could not load fcm_segmentations/.ipynb_checkpoints/s2_r3_Seg_4cl_S0_WBednoCSF_2_MIITRA2.nii.gz\n",
      "could not load fcm_segmentations/.ipynb_checkpoints/s3_r3_Seg_4cl_S0_WBednoCSF_2_MIITRA2.nii.gz\n",
      "could not load fcm_segmentations/.ipynb_checkpoints/s4_r3_Seg_4cl_S0_WBednoCSF_2_MIITRA2.nii.gz\n",
      "could not load fcm_segmentations/.ipynb_checkpoints/s5_r3_Seg_4cl_S0_WBednoCSF_2_MIITRA2.nii.gz\n",
      "could not load fcm_segmentations/.ipynb_checkpoints/s6_r3_Seg_4cl_S0_WBednoCSF_2_MIITRA2.nii.gz\n",
      "could not load fcm_segmentations/.ipynb_checkpoints/s7_r3_Seg_4cl_S0_WBednoCSF_2_MIITRA2.nii.gz\n",
      "could not load fcm_segmentations/.ipynb_checkpoints/s8_r3_Seg_4cl_S0_WBednoCSF_2_MIITRA2.nii.gz\n",
      "could not load fcm_segmentations/.ipynb_checkpoints/s9_r3_Seg_4cl_S0_WBednoCSF_2_MIITRA2.nii.gz\n",
      "could not load fcm_segmentations/.ipynb_checkpoints/s10_r3_Seg_4cl_S0_WBednoCSF_2_MIITRA2.nii.gz\n",
      "could not load fcm_segmentations/.ipynb_checkpoints/s11_r3_Seg_4cl_S0_WBednoCSF_2_MIITRA2.nii.gz\n",
      "could not load fcm_segmentations/.ipynb_checkpoints/s12_r3_Seg_4cl_S0_WBednoCSF_2_MIITRA2.nii.gz\n",
      "could not load fcm_segmentations/.ipynb_checkpoints/s1_r9_2_MIITRA2.nii.gz\n",
      "could not load fcm_segmentations/.ipynb_checkpoints/s2_r9_2_MIITRA2.nii.gz\n",
      "could not load fcm_segmentations/.ipynb_checkpoints/s3_r9_2_MIITRA2.nii.gz\n",
      "could not load fcm_segmentations/.ipynb_checkpoints/s4_r9_2_MIITRA2.nii.gz\n",
      "could not load fcm_segmentations/.ipynb_checkpoints/s5_r9_2_MIITRA2.nii.gz\n",
      "could not load fcm_segmentations/.ipynb_checkpoints/s6_r9_2_MIITRA2.nii.gz\n",
      "could not load fcm_segmentations/.ipynb_checkpoints/s7_r9_2_MIITRA2.nii.gz\n",
      "could not load fcm_segmentations/.ipynb_checkpoints/s8_r9_2_MIITRA2.nii.gz\n",
      "could not load fcm_segmentations/.ipynb_checkpoints/s9_r9_2_MIITRA2.nii.gz\n",
      "could not load fcm_segmentations/.ipynb_checkpoints/s10_r9_2_MIITRA2.nii.gz\n",
      "could not load fcm_segmentations/.ipynb_checkpoints/s11_r9_2_MIITRA2.nii.gz\n",
      "could not load fcm_segmentations/.ipynb_checkpoints/s12_r9_2_MIITRA2.nii.gz\n"
     ]
    },
    {
     "name": "stderr",
     "output_type": "stream",
     "text": [
      "100%|███████████████████████████████████████████| 16/16 [10:08<00:00, 38.05s/it]\n"
     ]
    }
   ],
   "source": [
    "for sub in tqdm.tqdm(os.listdir(\"fcm_segmentations\")):\n",
    "    sub_dir=opj(\"fcm_segmentations\",sub)\n",
    "    out_dir=opj(\"fcm_segmentations\",sub,\"final\")\n",
    "    os.makedirs(out_dir, exist_ok=True)\n",
    "    os.makedirs(opj(out_dir,\"probabilistic\"),exist_ok=True)\n",
    "    os.makedirs(opj(out_dir,\"binary_thr_0\"),exist_ok=True)\n",
    "    os.makedirs(opj(out_dir,\"binary_thr_25\"),exist_ok=True)\n",
    "    os.makedirs(opj(out_dir,\"binary_thr_50\"),exist_ok=True)\n",
    "    os.makedirs(opj(out_dir,\"binary_thr_75\"),exist_ok=True)\n",
    "    \n",
    "    for t in target_names:\n",
    "        segmentations=[]\n",
    "        for i in range(1,13):\n",
    "            affine=None\n",
    "            try:\n",
    "                segmentations.append(nib.load(opj(sub_dir,t.replace(\"*\",f\"{i}\"))))\n",
    "            except:\n",
    "                print(f\"could not load {opj(sub_dir,t.replace('*',f'{i}'))}\")\n",
    "        \n",
    "        if len(segmentations):\n",
    "            prob_segmentation=mean_img(segmentations)\n",
    "            data=prob_segmentation.get_fdata()\n",
    "\n",
    "            #probabilistic map\n",
    "            data=np.clip(data,0,1)\n",
    "\n",
    "            prob_nib=nib.Nifti1Image(data,prob_segmentation.affine)\n",
    "            nib.save(prob_nib,opj(out_dir,\"probabilistic\",t))\n",
    "\n",
    "            #boolean map\n",
    "\n",
    "            data_bool=(data>0)*1\n",
    "            bool_nib=nib.Nifti1Image(data_bool,prob_segmentation.affine)\n",
    "            nib.save(bool_nib,opj(out_dir,\"binary_thr_0\",t))\n",
    "\n",
    "            #threshold at 0.25\n",
    "\n",
    "            data_thr=(data>0.25)*1\n",
    "            thr_nib=nib.Nifti1Image(data_thr,prob_segmentation.affine)\n",
    "            nib.save(thr_nib,opj(out_dir,\"binary_thr_25\",t))\n",
    "\n",
    "            #threshold at 0.50\n",
    "\n",
    "            data_thr=(data>0.50)*1\n",
    "            thr_nib=nib.Nifti1Image(data_thr,prob_segmentation.affine)\n",
    "            nib.save(thr_nib,opj(out_dir,\"binary_thr_50\",t))\n",
    "\n",
    "            #threshold at 0.75\n",
    "\n",
    "            data_thr=(data>0.75)*1\n",
    "            thr_nib=nib.Nifti1Image(data_thr,prob_segmentation.affine)\n",
    "            nib.save(thr_nib,opj(out_dir,\"binary_thr_75\",t))\n"
   ]
  },
  {
   "cell_type": "markdown",
   "id": "aafd8d6b-5da2-424b-b6c3-afd4ff537220",
   "metadata": {},
   "source": [
    "## Final evaluations"
   ]
  },
  {
   "cell_type": "code",
   "execution_count": 30,
   "id": "6c992b1e-ede5-4bd8-82c0-7d47cb4050c4",
   "metadata": {},
   "outputs": [],
   "source": [
    "prior_path\n",
    "os.makedirs(\"average_prior\",exist_ok=True)"
   ]
  },
  {
   "cell_type": "code",
   "execution_count": 68,
   "id": "1f6e2d32-cc1e-4e8d-888e-e11324baa2e6",
   "metadata": {},
   "outputs": [
    {
     "name": "stderr",
     "output_type": "stream",
     "text": [
      "100%|███████████████████████████████████████████| 10/10 [00:56<00:00,  5.62s/it]\n"
     ]
    }
   ],
   "source": [
    "avg_img=[]\n",
    "\n",
    "os.makedirs(opj(\"average_prior\",\"probabilistic\"),exist_ok=True)\n",
    "os.makedirs(opj(\"average_prior\",\"binary_thr_0\"),exist_ok=True)\n",
    "os.makedirs(opj(\"average_prior\",\"binary_thr_25\"),exist_ok=True)\n",
    "os.makedirs(opj(\"average_prior\",\"binary_thr_50\"),exist_ok=True)\n",
    "os.makedirs(opj(\"average_prior\",\"binary_thr_75\"),exist_ok=True)\n",
    "\n",
    "for t in tqdm.tqdm(target_names):\n",
    "    priors=[]\n",
    "    affine=None\n",
    "    for i in range(1,13):\n",
    "        \n",
    "        try:\n",
    "            \n",
    "            priors.append(nib.load(opj(prior_path,t.replace(\"*\",f\"{i}\"))))\n",
    "        except:\n",
    "            print(f\"could not load {opj(sub_dir,t.replace('*',f'{i}'))}\")\n",
    "\n",
    "\n",
    "    prob_segmentation=mean_img(priors)\n",
    "    data=prob_segmentation.get_fdata()\n",
    "    \n",
    "\n",
    "    #probabilistic map\n",
    "    data=np.clip(data,0,1)\n",
    "\n",
    "    prob_nib=nib.Nifti1Image(data,prob_segmentation.affine)\n",
    "    nib.save(prob_nib,opj(\"average_prior\",\"probabilistic\",t))\n",
    "\n",
    "    #boolean map\n",
    "\n",
    "    data_bool=(data>0)*1\n",
    "    bool_nib=nib.Nifti1Image(data_bool,prob_segmentation.affine)\n",
    "    nib.save(bool_nib,opj(\"average_prior\",\"binary_thr_0\",t))\n",
    "\n",
    "    #threshold at 0.25\n",
    "\n",
    "    data_thr=(data>0.25)*1\n",
    "    thr_nib=nib.Nifti1Image(data_thr,prob_segmentation.affine)\n",
    "    nib.save(thr_nib,opj(\"average_prior\",\"binary_thr_25\",t))\n",
    "\n",
    "    #threshold at 0.50\n",
    "\n",
    "    data_thr=(data>0.50)*1\n",
    "    thr_nib=nib.Nifti1Image(data_thr,prob_segmentation.affine)\n",
    "    nib.save(thr_nib,opj(\"average_prior\",\"binary_thr_50\",t))\n",
    "\n",
    "    #threshold at 0.75\n",
    "\n",
    "    data_thr=(data>0.75)*1\n",
    "    thr_nib=nib.Nifti1Image(data_thr,prob_segmentation.affine)\n",
    "    nib.save(thr_nib,opj(\"average_prior\",\"binary_thr_75\",t))\n"
   ]
  },
  {
   "cell_type": "markdown",
   "id": "df558edd-b53f-4cb4-9af1-83bf8a158ef7",
   "metadata": {},
   "source": [
    "## For each patient, load all the final images and compute the dice for each nucleus"
   ]
  },
  {
   "cell_type": "code",
   "execution_count": null,
   "id": "bc2d6052-8889-404d-be9c-f49d6cfd6e7b",
   "metadata": {},
   "outputs": [],
   "source": [
    "def compute_final_dice(modality):\n",
    "    dice_dict={}\n",
    "\n",
    "    for t in tqdm.tqdm(target_names):\n",
    "        dice_dict[t]=[]\n",
    "        for sub in os.listdir(\"fcm_segmentations\"):\n",
    "            sub_dir=opj(\"fcm_segmentations\",sub,\"final\",modality)\n",
    "\n",
    "            try:\n",
    "                avg_prior=nib.load(opj(\"average_prior\",modality,t))\n",
    "                sub_seg = nib.load(opj(sub_dir,t))\n",
    "\n",
    "                try:\n",
    "                    dice_score=dice(avg_prior.get_fdata(),sub_seg.get_fdata())\n",
    "\n",
    "                    dice_dict[t].append(dice_score)\n",
    "                except Exception as e:\n",
    "                    # print(e)\n",
    "                    print(f\"file {opj(sub_dir,t)} or {opj('average_prior',modality,t)} is not a nifti\")\n",
    "            except:\n",
    "                print(f\"cant load file from {opj(sub_dir,t)}\")\n",
    "\n",
    "    dice_dict={i:v for i,v in dice_dict.items() if len(v)}\n",
    "    df=pd.DataFrame.from_dict(dice_dict)\n",
    "    sub_list=[i for i in os.listdir(\"fcm_segmentations\") if \"MIITRA\" in i]\n",
    "    df[\"sub\"]=sub_list\n",
    "    columns=[\"sub\"]+target_names\n",
    "    df=df[columns]\n",
    "    \n",
    "    df.to_csv(f\"dice_average_prior_{modality}.csv\")\n",
    "    return df"
   ]
  },
  {
   "cell_type": "code",
   "execution_count": 83,
   "id": "510c149e-720a-4dea-afd5-b186b90f1b5b",
   "metadata": {},
   "outputs": [
    {
     "name": "stderr",
     "output_type": "stream",
     "text": [
      "  0%|                                                    | 0/10 [00:00<?, ?it/s]/tmp/ipykernel_2070059/2134065819.py:22: DeprecationWarning: `np.bool` is a deprecated alias for the builtin `bool`. To silence this warning, use `bool` by itself. Doing this will not modify any behavior and is safe. If you specifically wanted the numpy scalar type, use `np.bool_` here.\n",
      "Deprecated in NumPy 1.20; for more details and guidance: https://numpy.org/devdocs/release/1.20.0-notes.html#deprecations\n",
      "  im1 = np.asarray(im1).astype(np.bool)\n",
      "/tmp/ipykernel_2070059/2134065819.py:23: DeprecationWarning: `np.bool` is a deprecated alias for the builtin `bool`. To silence this warning, use `bool` by itself. Doing this will not modify any behavior and is safe. If you specifically wanted the numpy scalar type, use `np.bool_` here.\n",
      "Deprecated in NumPy 1.20; for more details and guidance: https://numpy.org/devdocs/release/1.20.0-notes.html#deprecations\n",
      "  im2 = np.asarray(im2).astype(np.bool)\n"
     ]
    },
    {
     "name": "stdout",
     "output_type": "stream",
     "text": [
      "cant load file from fcm_segmentations/.ipynb_checkpoints/final/binary_thr_0/s*_l10_2_MIITRA2.nii.gz\n"
     ]
    },
    {
     "name": "stderr",
     "output_type": "stream",
     "text": [
      " 10%|████▍                                       | 1/10 [00:04<00:41,  4.61s/it]"
     ]
    },
    {
     "name": "stdout",
     "output_type": "stream",
     "text": [
      "cant load file from fcm_segmentations/.ipynb_checkpoints/final/binary_thr_0/s*_l1_Seg_4cl_S0_WBednoCSF_2_MIITRA2.nii.gz\n"
     ]
    },
    {
     "name": "stderr",
     "output_type": "stream",
     "text": [
      " 20%|████████▊                                   | 2/10 [00:08<00:33,  4.13s/it]"
     ]
    },
    {
     "name": "stdout",
     "output_type": "stream",
     "text": [
      "cant load file from fcm_segmentations/.ipynb_checkpoints/final/binary_thr_0/s*_l2_Seg_4cl_S0_WBednoCSF_2_MIITRA2.nii.gz\n"
     ]
    },
    {
     "name": "stderr",
     "output_type": "stream",
     "text": [
      " 30%|█████████████▏                              | 3/10 [00:12<00:27,  3.96s/it]"
     ]
    },
    {
     "name": "stdout",
     "output_type": "stream",
     "text": [
      "cant load file from fcm_segmentations/.ipynb_checkpoints/final/binary_thr_0/s*_l3_Seg_4cl_S0_WBednoCSF_2_MIITRA2.nii.gz\n"
     ]
    },
    {
     "name": "stderr",
     "output_type": "stream",
     "text": [
      " 40%|█████████████████▌                          | 4/10 [00:15<00:23,  3.90s/it]"
     ]
    },
    {
     "name": "stdout",
     "output_type": "stream",
     "text": [
      "cant load file from fcm_segmentations/.ipynb_checkpoints/final/binary_thr_0/s*_l9_2_MIITRA2.nii.gz\n"
     ]
    },
    {
     "name": "stderr",
     "output_type": "stream",
     "text": [
      " 50%|██████████████████████                      | 5/10 [00:19<00:19,  3.85s/it]"
     ]
    },
    {
     "name": "stdout",
     "output_type": "stream",
     "text": [
      "cant load file from fcm_segmentations/.ipynb_checkpoints/final/binary_thr_0/s*_r10_2_MIITRA2.nii.gz\n"
     ]
    },
    {
     "name": "stderr",
     "output_type": "stream",
     "text": [
      " 60%|██████████████████████████▍                 | 6/10 [00:23<00:15,  3.82s/it]"
     ]
    },
    {
     "name": "stdout",
     "output_type": "stream",
     "text": [
      "cant load file from fcm_segmentations/.ipynb_checkpoints/final/binary_thr_0/s*_r1_Seg_4cl_S0_WBednoCSF_2_MIITRA2.nii.gz\n"
     ]
    },
    {
     "name": "stderr",
     "output_type": "stream",
     "text": [
      " 70%|██████████████████████████████▊             | 7/10 [00:27<00:11,  3.81s/it]"
     ]
    },
    {
     "name": "stdout",
     "output_type": "stream",
     "text": [
      "cant load file from fcm_segmentations/.ipynb_checkpoints/final/binary_thr_0/s*_r2_Seg_4cl_S0_WBednoCSF_2_MIITRA2.nii.gz\n"
     ]
    },
    {
     "name": "stderr",
     "output_type": "stream",
     "text": [
      " 80%|███████████████████████████████████▏        | 8/10 [00:31<00:07,  3.79s/it]"
     ]
    },
    {
     "name": "stdout",
     "output_type": "stream",
     "text": [
      "cant load file from fcm_segmentations/.ipynb_checkpoints/final/binary_thr_0/s*_r3_Seg_4cl_S0_WBednoCSF_2_MIITRA2.nii.gz\n"
     ]
    },
    {
     "name": "stderr",
     "output_type": "stream",
     "text": [
      " 90%|███████████████████████████████████████▌    | 9/10 [00:34<00:03,  3.79s/it]"
     ]
    },
    {
     "name": "stdout",
     "output_type": "stream",
     "text": [
      "cant load file from fcm_segmentations/.ipynb_checkpoints/final/binary_thr_0/s*_r9_2_MIITRA2.nii.gz\n"
     ]
    },
    {
     "name": "stderr",
     "output_type": "stream",
     "text": [
      "100%|███████████████████████████████████████████| 10/10 [00:38<00:00,  3.86s/it]\n",
      "  0%|                                                    | 0/10 [00:00<?, ?it/s]/tmp/ipykernel_2070059/2134065819.py:22: DeprecationWarning: `np.bool` is a deprecated alias for the builtin `bool`. To silence this warning, use `bool` by itself. Doing this will not modify any behavior and is safe. If you specifically wanted the numpy scalar type, use `np.bool_` here.\n",
      "Deprecated in NumPy 1.20; for more details and guidance: https://numpy.org/devdocs/release/1.20.0-notes.html#deprecations\n",
      "  im1 = np.asarray(im1).astype(np.bool)\n",
      "/tmp/ipykernel_2070059/2134065819.py:23: DeprecationWarning: `np.bool` is a deprecated alias for the builtin `bool`. To silence this warning, use `bool` by itself. Doing this will not modify any behavior and is safe. If you specifically wanted the numpy scalar type, use `np.bool_` here.\n",
      "Deprecated in NumPy 1.20; for more details and guidance: https://numpy.org/devdocs/release/1.20.0-notes.html#deprecations\n",
      "  im2 = np.asarray(im2).astype(np.bool)\n"
     ]
    },
    {
     "name": "stdout",
     "output_type": "stream",
     "text": [
      "cant load file from fcm_segmentations/.ipynb_checkpoints/final/binary_thr_25/s*_l10_2_MIITRA2.nii.gz\n"
     ]
    },
    {
     "name": "stderr",
     "output_type": "stream",
     "text": [
      " 10%|████▍                                       | 1/10 [00:03<00:33,  3.76s/it]"
     ]
    },
    {
     "name": "stdout",
     "output_type": "stream",
     "text": [
      "cant load file from fcm_segmentations/.ipynb_checkpoints/final/binary_thr_25/s*_l1_Seg_4cl_S0_WBednoCSF_2_MIITRA2.nii.gz\n"
     ]
    },
    {
     "name": "stderr",
     "output_type": "stream",
     "text": [
      " 20%|████████▊                                   | 2/10 [00:07<00:30,  3.78s/it]"
     ]
    },
    {
     "name": "stdout",
     "output_type": "stream",
     "text": [
      "cant load file from fcm_segmentations/.ipynb_checkpoints/final/binary_thr_25/s*_l2_Seg_4cl_S0_WBednoCSF_2_MIITRA2.nii.gz\n"
     ]
    },
    {
     "name": "stderr",
     "output_type": "stream",
     "text": [
      " 30%|█████████████▏                              | 3/10 [00:11<00:26,  3.78s/it]"
     ]
    },
    {
     "name": "stdout",
     "output_type": "stream",
     "text": [
      "cant load file from fcm_segmentations/.ipynb_checkpoints/final/binary_thr_25/s*_l3_Seg_4cl_S0_WBednoCSF_2_MIITRA2.nii.gz\n"
     ]
    },
    {
     "name": "stderr",
     "output_type": "stream",
     "text": [
      " 40%|█████████████████▌                          | 4/10 [00:15<00:24,  4.12s/it]"
     ]
    },
    {
     "name": "stdout",
     "output_type": "stream",
     "text": [
      "cant load file from fcm_segmentations/.ipynb_checkpoints/final/binary_thr_25/s*_l9_2_MIITRA2.nii.gz\n"
     ]
    },
    {
     "name": "stderr",
     "output_type": "stream",
     "text": [
      " 50%|██████████████████████                      | 5/10 [00:20<00:20,  4.13s/it]"
     ]
    },
    {
     "name": "stdout",
     "output_type": "stream",
     "text": [
      "cant load file from fcm_segmentations/.ipynb_checkpoints/final/binary_thr_25/s*_r10_2_MIITRA2.nii.gz\n"
     ]
    },
    {
     "name": "stderr",
     "output_type": "stream",
     "text": [
      " 60%|██████████████████████████▍                 | 6/10 [00:24<00:16,  4.06s/it]"
     ]
    },
    {
     "name": "stdout",
     "output_type": "stream",
     "text": [
      "cant load file from fcm_segmentations/.ipynb_checkpoints/final/binary_thr_25/s*_r1_Seg_4cl_S0_WBednoCSF_2_MIITRA2.nii.gz\n"
     ]
    },
    {
     "name": "stderr",
     "output_type": "stream",
     "text": [
      " 70%|██████████████████████████████▊             | 7/10 [00:27<00:12,  4.01s/it]"
     ]
    },
    {
     "name": "stdout",
     "output_type": "stream",
     "text": [
      "cant load file from fcm_segmentations/.ipynb_checkpoints/final/binary_thr_25/s*_r2_Seg_4cl_S0_WBednoCSF_2_MIITRA2.nii.gz\n"
     ]
    },
    {
     "name": "stderr",
     "output_type": "stream",
     "text": [
      " 80%|███████████████████████████████████▏        | 8/10 [00:31<00:07,  3.99s/it]"
     ]
    },
    {
     "name": "stdout",
     "output_type": "stream",
     "text": [
      "cant load file from fcm_segmentations/.ipynb_checkpoints/final/binary_thr_25/s*_r3_Seg_4cl_S0_WBednoCSF_2_MIITRA2.nii.gz\n"
     ]
    },
    {
     "name": "stderr",
     "output_type": "stream",
     "text": [
      " 90%|███████████████████████████████████████▌    | 9/10 [00:35<00:03,  3.95s/it]"
     ]
    },
    {
     "name": "stdout",
     "output_type": "stream",
     "text": [
      "cant load file from fcm_segmentations/.ipynb_checkpoints/final/binary_thr_25/s*_r9_2_MIITRA2.nii.gz\n"
     ]
    },
    {
     "name": "stderr",
     "output_type": "stream",
     "text": [
      "100%|███████████████████████████████████████████| 10/10 [00:39<00:00,  3.99s/it]\n",
      "  0%|                                                    | 0/10 [00:00<?, ?it/s]/tmp/ipykernel_2070059/2134065819.py:22: DeprecationWarning: `np.bool` is a deprecated alias for the builtin `bool`. To silence this warning, use `bool` by itself. Doing this will not modify any behavior and is safe. If you specifically wanted the numpy scalar type, use `np.bool_` here.\n",
      "Deprecated in NumPy 1.20; for more details and guidance: https://numpy.org/devdocs/release/1.20.0-notes.html#deprecations\n",
      "  im1 = np.asarray(im1).astype(np.bool)\n",
      "/tmp/ipykernel_2070059/2134065819.py:23: DeprecationWarning: `np.bool` is a deprecated alias for the builtin `bool`. To silence this warning, use `bool` by itself. Doing this will not modify any behavior and is safe. If you specifically wanted the numpy scalar type, use `np.bool_` here.\n",
      "Deprecated in NumPy 1.20; for more details and guidance: https://numpy.org/devdocs/release/1.20.0-notes.html#deprecations\n",
      "  im2 = np.asarray(im2).astype(np.bool)\n"
     ]
    },
    {
     "name": "stdout",
     "output_type": "stream",
     "text": [
      "cant load file from fcm_segmentations/.ipynb_checkpoints/final/binary_thr_50/s*_l10_2_MIITRA2.nii.gz\n"
     ]
    },
    {
     "name": "stderr",
     "output_type": "stream",
     "text": [
      " 10%|████▍                                       | 1/10 [00:04<00:36,  4.09s/it]"
     ]
    },
    {
     "name": "stdout",
     "output_type": "stream",
     "text": [
      "cant load file from fcm_segmentations/.ipynb_checkpoints/final/binary_thr_50/s*_l1_Seg_4cl_S0_WBednoCSF_2_MIITRA2.nii.gz\n"
     ]
    },
    {
     "name": "stderr",
     "output_type": "stream",
     "text": [
      " 20%|████████▊                                   | 2/10 [00:08<00:31,  4.00s/it]"
     ]
    },
    {
     "name": "stdout",
     "output_type": "stream",
     "text": [
      "cant load file from fcm_segmentations/.ipynb_checkpoints/final/binary_thr_50/s*_l2_Seg_4cl_S0_WBednoCSF_2_MIITRA2.nii.gz\n"
     ]
    },
    {
     "name": "stderr",
     "output_type": "stream",
     "text": [
      " 30%|█████████████▏                              | 3/10 [00:11<00:27,  3.95s/it]"
     ]
    },
    {
     "name": "stdout",
     "output_type": "stream",
     "text": [
      "cant load file from fcm_segmentations/.ipynb_checkpoints/final/binary_thr_50/s*_l3_Seg_4cl_S0_WBednoCSF_2_MIITRA2.nii.gz\n"
     ]
    },
    {
     "name": "stderr",
     "output_type": "stream",
     "text": [
      " 40%|█████████████████▌                          | 4/10 [00:15<00:23,  3.85s/it]"
     ]
    },
    {
     "name": "stdout",
     "output_type": "stream",
     "text": [
      "cant load file from fcm_segmentations/.ipynb_checkpoints/final/binary_thr_50/s*_l9_2_MIITRA2.nii.gz\n"
     ]
    },
    {
     "name": "stderr",
     "output_type": "stream",
     "text": [
      " 50%|██████████████████████                      | 5/10 [00:19<00:19,  3.80s/it]"
     ]
    },
    {
     "name": "stdout",
     "output_type": "stream",
     "text": [
      "cant load file from fcm_segmentations/.ipynb_checkpoints/final/binary_thr_50/s*_r10_2_MIITRA2.nii.gz\n"
     ]
    },
    {
     "name": "stderr",
     "output_type": "stream",
     "text": [
      " 60%|██████████████████████████▍                 | 6/10 [00:23<00:15,  3.81s/it]"
     ]
    },
    {
     "name": "stdout",
     "output_type": "stream",
     "text": [
      "cant load file from fcm_segmentations/.ipynb_checkpoints/final/binary_thr_50/s*_r1_Seg_4cl_S0_WBednoCSF_2_MIITRA2.nii.gz\n"
     ]
    },
    {
     "name": "stderr",
     "output_type": "stream",
     "text": [
      " 70%|██████████████████████████████▊             | 7/10 [00:27<00:11,  3.83s/it]"
     ]
    },
    {
     "name": "stdout",
     "output_type": "stream",
     "text": [
      "cant load file from fcm_segmentations/.ipynb_checkpoints/final/binary_thr_50/s*_r2_Seg_4cl_S0_WBednoCSF_2_MIITRA2.nii.gz\n"
     ]
    },
    {
     "name": "stderr",
     "output_type": "stream",
     "text": [
      " 80%|███████████████████████████████████▏        | 8/10 [00:30<00:07,  3.85s/it]"
     ]
    },
    {
     "name": "stdout",
     "output_type": "stream",
     "text": [
      "cant load file from fcm_segmentations/.ipynb_checkpoints/final/binary_thr_50/s*_r3_Seg_4cl_S0_WBednoCSF_2_MIITRA2.nii.gz\n"
     ]
    },
    {
     "name": "stderr",
     "output_type": "stream",
     "text": [
      " 90%|███████████████████████████████████████▌    | 9/10 [00:34<00:03,  3.85s/it]"
     ]
    },
    {
     "name": "stdout",
     "output_type": "stream",
     "text": [
      "cant load file from fcm_segmentations/.ipynb_checkpoints/final/binary_thr_50/s*_r9_2_MIITRA2.nii.gz\n"
     ]
    },
    {
     "name": "stderr",
     "output_type": "stream",
     "text": [
      "100%|███████████████████████████████████████████| 10/10 [00:38<00:00,  3.85s/it]\n",
      "  0%|                                                    | 0/10 [00:00<?, ?it/s]/tmp/ipykernel_2070059/2134065819.py:22: DeprecationWarning: `np.bool` is a deprecated alias for the builtin `bool`. To silence this warning, use `bool` by itself. Doing this will not modify any behavior and is safe. If you specifically wanted the numpy scalar type, use `np.bool_` here.\n",
      "Deprecated in NumPy 1.20; for more details and guidance: https://numpy.org/devdocs/release/1.20.0-notes.html#deprecations\n",
      "  im1 = np.asarray(im1).astype(np.bool)\n",
      "/tmp/ipykernel_2070059/2134065819.py:23: DeprecationWarning: `np.bool` is a deprecated alias for the builtin `bool`. To silence this warning, use `bool` by itself. Doing this will not modify any behavior and is safe. If you specifically wanted the numpy scalar type, use `np.bool_` here.\n",
      "Deprecated in NumPy 1.20; for more details and guidance: https://numpy.org/devdocs/release/1.20.0-notes.html#deprecations\n",
      "  im2 = np.asarray(im2).astype(np.bool)\n"
     ]
    },
    {
     "name": "stdout",
     "output_type": "stream",
     "text": [
      "cant load file from fcm_segmentations/.ipynb_checkpoints/final/binary_thr_75/s*_l10_2_MIITRA2.nii.gz\n"
     ]
    },
    {
     "name": "stderr",
     "output_type": "stream",
     "text": [
      " 10%|████▍                                       | 1/10 [00:04<00:36,  4.08s/it]"
     ]
    },
    {
     "name": "stdout",
     "output_type": "stream",
     "text": [
      "cant load file from fcm_segmentations/.ipynb_checkpoints/final/binary_thr_75/s*_l1_Seg_4cl_S0_WBednoCSF_2_MIITRA2.nii.gz\n"
     ]
    },
    {
     "name": "stderr",
     "output_type": "stream",
     "text": [
      " 20%|████████▊                                   | 2/10 [00:08<00:33,  4.17s/it]"
     ]
    },
    {
     "name": "stdout",
     "output_type": "stream",
     "text": [
      "cant load file from fcm_segmentations/.ipynb_checkpoints/final/binary_thr_75/s*_l2_Seg_4cl_S0_WBednoCSF_2_MIITRA2.nii.gz\n"
     ]
    },
    {
     "name": "stderr",
     "output_type": "stream",
     "text": [
      " 30%|█████████████▏                              | 3/10 [00:13<00:31,  4.45s/it]"
     ]
    },
    {
     "name": "stdout",
     "output_type": "stream",
     "text": [
      "cant load file from fcm_segmentations/.ipynb_checkpoints/final/binary_thr_75/s*_l3_Seg_4cl_S0_WBednoCSF_2_MIITRA2.nii.gz\n"
     ]
    },
    {
     "name": "stderr",
     "output_type": "stream",
     "text": [
      " 40%|█████████████████▌                          | 4/10 [00:17<00:26,  4.35s/it]"
     ]
    },
    {
     "name": "stdout",
     "output_type": "stream",
     "text": [
      "cant load file from fcm_segmentations/.ipynb_checkpoints/final/binary_thr_75/s*_l9_2_MIITRA2.nii.gz\n"
     ]
    },
    {
     "name": "stderr",
     "output_type": "stream",
     "text": [
      " 50%|██████████████████████                      | 5/10 [00:21<00:21,  4.30s/it]"
     ]
    },
    {
     "name": "stdout",
     "output_type": "stream",
     "text": [
      "cant load file from fcm_segmentations/.ipynb_checkpoints/final/binary_thr_75/s*_r10_2_MIITRA2.nii.gz\n"
     ]
    },
    {
     "name": "stderr",
     "output_type": "stream",
     "text": [
      " 60%|██████████████████████████▍                 | 6/10 [00:26<00:17,  4.37s/it]"
     ]
    },
    {
     "name": "stdout",
     "output_type": "stream",
     "text": [
      "cant load file from fcm_segmentations/.ipynb_checkpoints/final/binary_thr_75/s*_r1_Seg_4cl_S0_WBednoCSF_2_MIITRA2.nii.gz\n"
     ]
    },
    {
     "name": "stderr",
     "output_type": "stream",
     "text": [
      " 70%|██████████████████████████████▊             | 7/10 [00:30<00:12,  4.33s/it]"
     ]
    },
    {
     "name": "stdout",
     "output_type": "stream",
     "text": [
      "cant load file from fcm_segmentations/.ipynb_checkpoints/final/binary_thr_75/s*_r2_Seg_4cl_S0_WBednoCSF_2_MIITRA2.nii.gz\n"
     ]
    },
    {
     "name": "stderr",
     "output_type": "stream",
     "text": [
      " 80%|███████████████████████████████████▏        | 8/10 [00:34<00:08,  4.29s/it]"
     ]
    },
    {
     "name": "stdout",
     "output_type": "stream",
     "text": [
      "cant load file from fcm_segmentations/.ipynb_checkpoints/final/binary_thr_75/s*_r3_Seg_4cl_S0_WBednoCSF_2_MIITRA2.nii.gz\n"
     ]
    },
    {
     "name": "stderr",
     "output_type": "stream",
     "text": [
      " 90%|███████████████████████████████████████▌    | 9/10 [00:38<00:04,  4.28s/it]"
     ]
    },
    {
     "name": "stdout",
     "output_type": "stream",
     "text": [
      "cant load file from fcm_segmentations/.ipynb_checkpoints/final/binary_thr_75/s*_r9_2_MIITRA2.nii.gz\n"
     ]
    },
    {
     "name": "stderr",
     "output_type": "stream",
     "text": [
      "100%|███████████████████████████████████████████| 10/10 [00:42<00:00,  4.29s/it]\n"
     ]
    }
   ],
   "source": [
    "\n",
    "modality=\"binary_thr_25\"\n",
    "\n",
    "for modality in [\"binary_thr_0\",\"binary_thr_25\",\"binary_thr_50\",\"binary_thr_75\"]:\n",
    "    compute_final_dice(modality)"
   ]
  },
  {
   "cell_type": "code",
   "execution_count": 78,
   "id": "87d62a09-d7e1-4c34-b22d-86fc43ffb690",
   "metadata": {},
   "outputs": [
    {
     "data": {
      "text/html": [
       "<div>\n",
       "<style scoped>\n",
       "    .dataframe tbody tr th:only-of-type {\n",
       "        vertical-align: middle;\n",
       "    }\n",
       "\n",
       "    .dataframe tbody tr th {\n",
       "        vertical-align: top;\n",
       "    }\n",
       "\n",
       "    .dataframe thead th {\n",
       "        text-align: right;\n",
       "    }\n",
       "</style>\n",
       "<table border=\"1\" class=\"dataframe\">\n",
       "  <thead>\n",
       "    <tr style=\"text-align: right;\">\n",
       "      <th></th>\n",
       "      <th>sub</th>\n",
       "      <th>s*_l10_2_MIITRA2.nii.gz</th>\n",
       "      <th>s*_l1_Seg_4cl_S0_WBednoCSF_2_MIITRA2.nii.gz</th>\n",
       "      <th>s*_l2_Seg_4cl_S0_WBednoCSF_2_MIITRA2.nii.gz</th>\n",
       "      <th>s*_l3_Seg_4cl_S0_WBednoCSF_2_MIITRA2.nii.gz</th>\n",
       "      <th>s*_l9_2_MIITRA2.nii.gz</th>\n",
       "      <th>s*_r10_2_MIITRA2.nii.gz</th>\n",
       "      <th>s*_r1_Seg_4cl_S0_WBednoCSF_2_MIITRA2.nii.gz</th>\n",
       "      <th>s*_r2_Seg_4cl_S0_WBednoCSF_2_MIITRA2.nii.gz</th>\n",
       "      <th>s*_r3_Seg_4cl_S0_WBednoCSF_2_MIITRA2.nii.gz</th>\n",
       "      <th>s*_r9_2_MIITRA2.nii.gz</th>\n",
       "    </tr>\n",
       "  </thead>\n",
       "  <tbody>\n",
       "    <tr>\n",
       "      <th>0</th>\n",
       "      <td>dtifit_d_S0_bfc_sub8_masked_2_MIITRA2</td>\n",
       "      <td>0.240786</td>\n",
       "      <td>0.403326</td>\n",
       "      <td>0.324324</td>\n",
       "      <td>0.379909</td>\n",
       "      <td>0.311864</td>\n",
       "      <td>0.255556</td>\n",
       "      <td>0.301587</td>\n",
       "      <td>0.193353</td>\n",
       "      <td>0.406147</td>\n",
       "      <td>0.304688</td>\n",
       "    </tr>\n",
       "    <tr>\n",
       "      <th>1</th>\n",
       "      <td>dtifit_d_S0_bfc_sub6_masked_2_MIITRA2</td>\n",
       "      <td>0.081633</td>\n",
       "      <td>0.390135</td>\n",
       "      <td>0.394161</td>\n",
       "      <td>0.491968</td>\n",
       "      <td>0.331797</td>\n",
       "      <td>0.167619</td>\n",
       "      <td>0.418803</td>\n",
       "      <td>0.304511</td>\n",
       "      <td>0.510638</td>\n",
       "      <td>0.116022</td>\n",
       "    </tr>\n",
       "    <tr>\n",
       "      <th>2</th>\n",
       "      <td>dtifit_d_S0_bfc_sub19_masked_2_MIITRA2</td>\n",
       "      <td>0.314894</td>\n",
       "      <td>0.665025</td>\n",
       "      <td>0.348276</td>\n",
       "      <td>0.327442</td>\n",
       "      <td>0.287037</td>\n",
       "      <td>0.172043</td>\n",
       "      <td>0.698225</td>\n",
       "      <td>0.234513</td>\n",
       "      <td>0.307692</td>\n",
       "      <td>0.158996</td>\n",
       "    </tr>\n",
       "    <tr>\n",
       "      <th>3</th>\n",
       "      <td>dtifit_d_S0_bfc_sub17_masked_2_MIITRA2</td>\n",
       "      <td>0.158491</td>\n",
       "      <td>0.443564</td>\n",
       "      <td>0.366038</td>\n",
       "      <td>0.414327</td>\n",
       "      <td>0.371859</td>\n",
       "      <td>0.131687</td>\n",
       "      <td>0.377551</td>\n",
       "      <td>0.314908</td>\n",
       "      <td>0.495337</td>\n",
       "      <td>0.207650</td>\n",
       "    </tr>\n",
       "    <tr>\n",
       "      <th>4</th>\n",
       "      <td>dtifit_d_S0_bfc_sub11_masked_2_MIITRA2</td>\n",
       "      <td>0.186916</td>\n",
       "      <td>0.462151</td>\n",
       "      <td>0.290837</td>\n",
       "      <td>0.418395</td>\n",
       "      <td>0.458333</td>\n",
       "      <td>0.153086</td>\n",
       "      <td>0.479532</td>\n",
       "      <td>0.203267</td>\n",
       "      <td>0.401487</td>\n",
       "      <td>0.116992</td>\n",
       "    </tr>\n",
       "    <tr>\n",
       "      <th>5</th>\n",
       "      <td>dtifit_d_S0_bfc_sub1_masked_2_MIITRA2</td>\n",
       "      <td>0.286738</td>\n",
       "      <td>0.289100</td>\n",
       "      <td>0.395402</td>\n",
       "      <td>0.393476</td>\n",
       "      <td>0.361345</td>\n",
       "      <td>0.159011</td>\n",
       "      <td>0.000000</td>\n",
       "      <td>0.354379</td>\n",
       "      <td>0.471111</td>\n",
       "      <td>0.318966</td>\n",
       "    </tr>\n",
       "    <tr>\n",
       "      <th>6</th>\n",
       "      <td>dtifit_d_S0_bfc_sub3_masked_2_MIITRA2</td>\n",
       "      <td>0.280822</td>\n",
       "      <td>0.498208</td>\n",
       "      <td>0.397727</td>\n",
       "      <td>0.468284</td>\n",
       "      <td>0.298932</td>\n",
       "      <td>0.150171</td>\n",
       "      <td>0.377273</td>\n",
       "      <td>0.231183</td>\n",
       "      <td>0.454638</td>\n",
       "      <td>0.128000</td>\n",
       "    </tr>\n",
       "    <tr>\n",
       "      <th>7</th>\n",
       "      <td>dtifit_d_S0_bfc_sub7_masked_2_MIITRA2</td>\n",
       "      <td>0.135364</td>\n",
       "      <td>0.490842</td>\n",
       "      <td>0.344086</td>\n",
       "      <td>0.386910</td>\n",
       "      <td>0.208000</td>\n",
       "      <td>0.182278</td>\n",
       "      <td>0.436090</td>\n",
       "      <td>0.277657</td>\n",
       "      <td>0.473490</td>\n",
       "      <td>0.275591</td>\n",
       "    </tr>\n",
       "    <tr>\n",
       "      <th>8</th>\n",
       "      <td>dtifit_d_S0_bfc_sub13_masked_2_MIITRA2</td>\n",
       "      <td>0.355932</td>\n",
       "      <td>0.514071</td>\n",
       "      <td>0.432718</td>\n",
       "      <td>0.410839</td>\n",
       "      <td>0.505155</td>\n",
       "      <td>0.231975</td>\n",
       "      <td>0.461538</td>\n",
       "      <td>0.280822</td>\n",
       "      <td>0.484043</td>\n",
       "      <td>0.444444</td>\n",
       "    </tr>\n",
       "    <tr>\n",
       "      <th>9</th>\n",
       "      <td>dtifit_d_S0_bfc_sub22_masked_2_MIITRA2</td>\n",
       "      <td>0.127753</td>\n",
       "      <td>0.503145</td>\n",
       "      <td>0.313559</td>\n",
       "      <td>0.399616</td>\n",
       "      <td>0.311258</td>\n",
       "      <td>0.065217</td>\n",
       "      <td>0.437895</td>\n",
       "      <td>0.307292</td>\n",
       "      <td>0.474619</td>\n",
       "      <td>0.207317</td>\n",
       "    </tr>\n",
       "    <tr>\n",
       "      <th>10</th>\n",
       "      <td>dtifit_d_S0_bfc_sub10_masked_2_MIITRA2</td>\n",
       "      <td>0.208092</td>\n",
       "      <td>0.505495</td>\n",
       "      <td>0.287009</td>\n",
       "      <td>0.357282</td>\n",
       "      <td>0.272059</td>\n",
       "      <td>0.129870</td>\n",
       "      <td>0.281915</td>\n",
       "      <td>0.203730</td>\n",
       "      <td>0.283600</td>\n",
       "      <td>0.153005</td>\n",
       "    </tr>\n",
       "    <tr>\n",
       "      <th>11</th>\n",
       "      <td>dtifit_d_S0_bfc_sub24_masked_2_MIITRA2</td>\n",
       "      <td>0.361111</td>\n",
       "      <td>0.378947</td>\n",
       "      <td>0.294643</td>\n",
       "      <td>0.434223</td>\n",
       "      <td>0.320675</td>\n",
       "      <td>0.237389</td>\n",
       "      <td>0.000000</td>\n",
       "      <td>0.232019</td>\n",
       "      <td>0.436620</td>\n",
       "      <td>0.382514</td>\n",
       "    </tr>\n",
       "    <tr>\n",
       "      <th>12</th>\n",
       "      <td>dtifit_d_S0_bfc_sub18_masked_2_MIITRA2</td>\n",
       "      <td>0.205405</td>\n",
       "      <td>0.438710</td>\n",
       "      <td>0.397321</td>\n",
       "      <td>0.354128</td>\n",
       "      <td>0.346939</td>\n",
       "      <td>0.266319</td>\n",
       "      <td>0.370370</td>\n",
       "      <td>0.303855</td>\n",
       "      <td>0.471028</td>\n",
       "      <td>0.140221</td>\n",
       "    </tr>\n",
       "    <tr>\n",
       "      <th>13</th>\n",
       "      <td>dtifit_d_S0_bfc_sub2_masked_2_MIITRA2</td>\n",
       "      <td>0.187970</td>\n",
       "      <td>0.157729</td>\n",
       "      <td>0.359932</td>\n",
       "      <td>0.462222</td>\n",
       "      <td>0.331492</td>\n",
       "      <td>0.200000</td>\n",
       "      <td>0.442748</td>\n",
       "      <td>0.287968</td>\n",
       "      <td>0.427732</td>\n",
       "      <td>0.289855</td>\n",
       "    </tr>\n",
       "    <tr>\n",
       "      <th>14</th>\n",
       "      <td>dtifit_d_S0_bfc_sub23_masked_2_MIITRA2</td>\n",
       "      <td>0.230483</td>\n",
       "      <td>0.431818</td>\n",
       "      <td>0.354125</td>\n",
       "      <td>0.442149</td>\n",
       "      <td>0.368421</td>\n",
       "      <td>0.466960</td>\n",
       "      <td>0.380567</td>\n",
       "      <td>0.248908</td>\n",
       "      <td>0.480506</td>\n",
       "      <td>0.323529</td>\n",
       "    </tr>\n",
       "  </tbody>\n",
       "</table>\n",
       "</div>"
      ],
      "text/plain": [
       "                                       sub  s*_l10_2_MIITRA2.nii.gz  \\\n",
       "0    dtifit_d_S0_bfc_sub8_masked_2_MIITRA2                 0.240786   \n",
       "1    dtifit_d_S0_bfc_sub6_masked_2_MIITRA2                 0.081633   \n",
       "2   dtifit_d_S0_bfc_sub19_masked_2_MIITRA2                 0.314894   \n",
       "3   dtifit_d_S0_bfc_sub17_masked_2_MIITRA2                 0.158491   \n",
       "4   dtifit_d_S0_bfc_sub11_masked_2_MIITRA2                 0.186916   \n",
       "5    dtifit_d_S0_bfc_sub1_masked_2_MIITRA2                 0.286738   \n",
       "6    dtifit_d_S0_bfc_sub3_masked_2_MIITRA2                 0.280822   \n",
       "7    dtifit_d_S0_bfc_sub7_masked_2_MIITRA2                 0.135364   \n",
       "8   dtifit_d_S0_bfc_sub13_masked_2_MIITRA2                 0.355932   \n",
       "9   dtifit_d_S0_bfc_sub22_masked_2_MIITRA2                 0.127753   \n",
       "10  dtifit_d_S0_bfc_sub10_masked_2_MIITRA2                 0.208092   \n",
       "11  dtifit_d_S0_bfc_sub24_masked_2_MIITRA2                 0.361111   \n",
       "12  dtifit_d_S0_bfc_sub18_masked_2_MIITRA2                 0.205405   \n",
       "13   dtifit_d_S0_bfc_sub2_masked_2_MIITRA2                 0.187970   \n",
       "14  dtifit_d_S0_bfc_sub23_masked_2_MIITRA2                 0.230483   \n",
       "\n",
       "    s*_l1_Seg_4cl_S0_WBednoCSF_2_MIITRA2.nii.gz  \\\n",
       "0                                      0.403326   \n",
       "1                                      0.390135   \n",
       "2                                      0.665025   \n",
       "3                                      0.443564   \n",
       "4                                      0.462151   \n",
       "5                                      0.289100   \n",
       "6                                      0.498208   \n",
       "7                                      0.490842   \n",
       "8                                      0.514071   \n",
       "9                                      0.503145   \n",
       "10                                     0.505495   \n",
       "11                                     0.378947   \n",
       "12                                     0.438710   \n",
       "13                                     0.157729   \n",
       "14                                     0.431818   \n",
       "\n",
       "    s*_l2_Seg_4cl_S0_WBednoCSF_2_MIITRA2.nii.gz  \\\n",
       "0                                      0.324324   \n",
       "1                                      0.394161   \n",
       "2                                      0.348276   \n",
       "3                                      0.366038   \n",
       "4                                      0.290837   \n",
       "5                                      0.395402   \n",
       "6                                      0.397727   \n",
       "7                                      0.344086   \n",
       "8                                      0.432718   \n",
       "9                                      0.313559   \n",
       "10                                     0.287009   \n",
       "11                                     0.294643   \n",
       "12                                     0.397321   \n",
       "13                                     0.359932   \n",
       "14                                     0.354125   \n",
       "\n",
       "    s*_l3_Seg_4cl_S0_WBednoCSF_2_MIITRA2.nii.gz  s*_l9_2_MIITRA2.nii.gz  \\\n",
       "0                                      0.379909                0.311864   \n",
       "1                                      0.491968                0.331797   \n",
       "2                                      0.327442                0.287037   \n",
       "3                                      0.414327                0.371859   \n",
       "4                                      0.418395                0.458333   \n",
       "5                                      0.393476                0.361345   \n",
       "6                                      0.468284                0.298932   \n",
       "7                                      0.386910                0.208000   \n",
       "8                                      0.410839                0.505155   \n",
       "9                                      0.399616                0.311258   \n",
       "10                                     0.357282                0.272059   \n",
       "11                                     0.434223                0.320675   \n",
       "12                                     0.354128                0.346939   \n",
       "13                                     0.462222                0.331492   \n",
       "14                                     0.442149                0.368421   \n",
       "\n",
       "    s*_r10_2_MIITRA2.nii.gz  s*_r1_Seg_4cl_S0_WBednoCSF_2_MIITRA2.nii.gz  \\\n",
       "0                  0.255556                                     0.301587   \n",
       "1                  0.167619                                     0.418803   \n",
       "2                  0.172043                                     0.698225   \n",
       "3                  0.131687                                     0.377551   \n",
       "4                  0.153086                                     0.479532   \n",
       "5                  0.159011                                     0.000000   \n",
       "6                  0.150171                                     0.377273   \n",
       "7                  0.182278                                     0.436090   \n",
       "8                  0.231975                                     0.461538   \n",
       "9                  0.065217                                     0.437895   \n",
       "10                 0.129870                                     0.281915   \n",
       "11                 0.237389                                     0.000000   \n",
       "12                 0.266319                                     0.370370   \n",
       "13                 0.200000                                     0.442748   \n",
       "14                 0.466960                                     0.380567   \n",
       "\n",
       "    s*_r2_Seg_4cl_S0_WBednoCSF_2_MIITRA2.nii.gz  \\\n",
       "0                                      0.193353   \n",
       "1                                      0.304511   \n",
       "2                                      0.234513   \n",
       "3                                      0.314908   \n",
       "4                                      0.203267   \n",
       "5                                      0.354379   \n",
       "6                                      0.231183   \n",
       "7                                      0.277657   \n",
       "8                                      0.280822   \n",
       "9                                      0.307292   \n",
       "10                                     0.203730   \n",
       "11                                     0.232019   \n",
       "12                                     0.303855   \n",
       "13                                     0.287968   \n",
       "14                                     0.248908   \n",
       "\n",
       "    s*_r3_Seg_4cl_S0_WBednoCSF_2_MIITRA2.nii.gz  s*_r9_2_MIITRA2.nii.gz  \n",
       "0                                      0.406147                0.304688  \n",
       "1                                      0.510638                0.116022  \n",
       "2                                      0.307692                0.158996  \n",
       "3                                      0.495337                0.207650  \n",
       "4                                      0.401487                0.116992  \n",
       "5                                      0.471111                0.318966  \n",
       "6                                      0.454638                0.128000  \n",
       "7                                      0.473490                0.275591  \n",
       "8                                      0.484043                0.444444  \n",
       "9                                      0.474619                0.207317  \n",
       "10                                     0.283600                0.153005  \n",
       "11                                     0.436620                0.382514  \n",
       "12                                     0.471028                0.140221  \n",
       "13                                     0.427732                0.289855  \n",
       "14                                     0.480506                0.323529  "
      ]
     },
     "execution_count": 78,
     "metadata": {},
     "output_type": "execute_result"
    }
   ],
   "source": [
    "dice_dict={i:v for i,v in dice_dict.items() if len(v)}\n",
    "df=pd.DataFrame.from_dict(dice_dict)\n",
    "sub_list=[i for i in os.listdir(\"fcm_segmentations\") if \"MIITRA\" in i]\n",
    "df[\"sub\"]=sub_list\n",
    "columns=[\"sub\"]+target_names\n",
    "df[columns]"
   ]
  },
  {
   "cell_type": "code",
   "execution_count": 87,
   "id": "a046fcb1-9a6a-4f70-8636-845c4a75f695",
   "metadata": {},
   "outputs": [
    {
     "name": "stderr",
     "output_type": "stream",
     "text": [
      "100%|██████████████████████████████████████████| 16/16 [00:00<00:00, 103.63it/s]\n"
     ]
    }
   ],
   "source": [
    "## Clean single files\n",
    "\n",
    "for sub in tqdm.tqdm(os.listdir(\"fcm_segmentations\")):\n",
    "    to_remove=glob.glob(opj(\"fcm_segmentations\",sub,\"*.nii.gz\"))\n",
    "    for i in to_remove:\n",
    "        os.remove(i)"
   ]
  }
 ],
 "metadata": {
  "kernelspec": {
   "display_name": "pytorch",
   "language": "python",
   "name": "pytorch"
  },
  "language_info": {
   "codemirror_mode": {
    "name": "ipython",
    "version": 3
   },
   "file_extension": ".py",
   "mimetype": "text/x-python",
   "name": "python",
   "nbconvert_exporter": "python",
   "pygments_lexer": "ipython3",
   "version": "3.9.12"
  }
 },
 "nbformat": 4,
 "nbformat_minor": 5
}
